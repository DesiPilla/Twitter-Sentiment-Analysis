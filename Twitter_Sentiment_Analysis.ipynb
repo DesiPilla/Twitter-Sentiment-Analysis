{
  "nbformat": 4,
  "nbformat_minor": 0,
  "metadata": {
    "colab": {
      "name": "Twitter Sentiment Analysis.ipynb",
      "provenance": [],
      "collapsed_sections": [
        "eAdnk_YBUve6",
        "tf2jhR-gW_-s",
        "7a8j3djvw4ya",
        "mFlbcdDjw2f7",
        "FTuaLsa_IWkO",
        "QC7FcydOK-l9"
      ],
      "include_colab_link": true
    },
    "kernelspec": {
      "name": "python3",
      "display_name": "Python 3"
    },
    "accelerator": "GPU"
  },
  "cells": [
    {
      "cell_type": "markdown",
      "metadata": {
        "id": "view-in-github",
        "colab_type": "text"
      },
      "source": [
        "<a href=\"https://colab.research.google.com/github/DesiPilla/Twitter-Sentiment-Analysis/blob/master/Twitter_Sentiment_Analysis.ipynb\" target=\"_parent\"><img src=\"https://colab.research.google.com/assets/colab-badge.svg\" alt=\"Open In Colab\"/></a>"
      ]
    },
    {
      "cell_type": "markdown",
      "metadata": {
        "id": "o9YccVLHuF_j",
        "colab_type": "text"
      },
      "source": [
        "# Twitter Sentiment Analysis\n",
        "\n",
        "Group members:\n",
        " * Olivia Mwangi\n",
        " * Desiderio Pilla\n",
        " * Akshaya Ramesh"
      ]
    },
    {
      "cell_type": "markdown",
      "metadata": {
        "id": "6caChmhKSvE9",
        "colab_type": "text"
      },
      "source": [
        "# Problem Statement"
      ]
    },
    {
      "cell_type": "markdown",
      "metadata": {
        "id": "1mBrl1UFNrP6",
        "colab_type": "text"
      },
      "source": [
        "On Twitter, users all over the world can express their opinion on any topic in a matter of seconds. By searching keywords or hashtags, anyone can scroll through a feed of content relating to any interest they like. The rise of social media has seen an uptick in polarizing content on the web, as it has become extraordinarily easy to share one's views. \n",
        "\n",
        "An important field of data science is sentiment analysis, which uses natural language processing to extract certain emotions of feelings from text. The main goal of this project is to build and train a model that can detect the sentiment of a tweet. For simplicity, this model limit its scope to label all tweets into one of these three categories:\n",
        " * negative\n",
        " * neutral\n",
        " * positive\n",
        "\n",
        "Though there are many more specific sentiments that would need to be learned in order to obtain a clearer picture of a tweet's intentions, we will limit our model to learning these three classifications. However, a perfect model is nearly impossible to create. The reason is because sentiment is highly subjective. Anywhere from 10% - 30% of tweets would cause a debate amongst humans as to which category they fall into. To illustrate this, consider the following two tweets:\n",
        "\n",
        "> I love the world!\n",
        ">\n",
        "> I hate the world.\n",
        "\n",
        "These two tweets clearly fall into the positive and negative, respectively, sentiment categories. However, consider this tweet:\n",
        "\n",
        "> I am indifferent about the world.\n",
        "\n",
        "This tweet lies somewhere in between the previous two. Yet, rather than labeling it as \"neutral\", one could argue that this in fact illicits a negative sentiment, as people who don't view the world positively must view it negatively. Another non-trivial tweet is:\n",
        "\n",
        "> The S&P 500 was down 300 points on Thursday.\n",
        "\n",
        "This would come as bad news for investors, but happy news for short-sellers. But broadly, this tweet doesn't seem to have any emotion, but rather only delivers a fact. Lastly, consider one more tweet:\n",
        "\n",
        "> I love candy, but it has too much sugar in it!\n",
        "\n",
        "This person begins by saying something positive, but then ends it negatively. Overall, it is unclear whether this is a net-positive or net-negative tweet. It is also not as bland as the third example tweet; this sentence exhibits both positive and negative sentiments in one. The point of these examples is to show that sentiment analysis is not an exact science. Furthermore, not all sentiments are as easy to distinguish. A \"neutral\" label is much more subjective and poorly-defined that a \"positive\" or \"negative\" label.\n",
        "\n",
        "In this project, we aim to create a machine learning model that is able to accurately classify the sentiment of a tweet, with the expectation that the \"true\" accuracy of the model will be limited by the subjective nature of this application. Once a model has been created, trained, and validated, we intend to use it on real-time and historical tweets to collect aggregated sentiment scores for varying topics and subjects to create time series charts."
      ]
    },
    {
      "cell_type": "markdown",
      "metadata": {
        "id": "SDPUsO1ayyik",
        "colab_type": "text"
      },
      "source": [
        "# Import packages"
      ]
    },
    {
      "cell_type": "code",
      "metadata": {
        "id": "pXSrmmZr7orS",
        "colab_type": "code",
        "outputId": "522f4273-7293-4e41-8de2-b6cc1c9f96a8",
        "colab": {
          "base_uri": "https://localhost:8080/",
          "height": 394
        }
      },
      "source": [
        "import math\n",
        "import string\n",
        "import numpy as np\n",
        "import pandas as pd\n",
        "import matplotlib.pyplot as plt\n",
        "\n",
        "!pip install tweepy\n",
        "\n",
        "import tweepy\n",
        "import re\n",
        "from joblib import dump, load\n",
        "\n",
        "import nltk\n",
        "from nltk.corpus import stopwords\n",
        "from nltk.corpus import wordnet as wn\n",
        "from nltk.tokenize import word_tokenize\n",
        "from string import punctuation\n",
        "\n",
        "nltk.download('punkt')\n",
        "nltk.download('stopwords')\n",
        "nltk.download('wordnet')\n",
        "nltk.download('averaged_perceptron_tagger')\n",
        "\n",
        "from sklearn.model_selection import train_test_split\n",
        "from sklearn.metrics import accuracy_score, confusion_matrix, classification_report\n",
        "\n",
        "from sklearn.feature_extraction.text import CountVectorizer\n",
        "from sklearn.feature_extraction.text import TfidfTransformer\n",
        "from sklearn.svm import SVC\n",
        "from sklearn.naive_bayes import MultinomialNB\n",
        "from sklearn.linear_model import SGDClassifier, Perceptron, LogisticRegression\n",
        "from sklearn.neighbors import KNeighborsClassifier\n",
        "from sklearn.ensemble import RandomForestClassifier\n",
        "from sklearn.discriminant_analysis import LinearDiscriminantAnalysis\n",
        "from sklearn.neural_network import MLPClassifier\n",
        "\n",
        "from sklearn.pipeline import Pipeline\n",
        "from sklearn.base import BaseEstimator\n",
        "from sklearn.model_selection import GridSearchCV\n",
        "from sklearn.externals import joblib"
      ],
      "execution_count": 1,
      "outputs": [
        {
          "output_type": "stream",
          "text": [
            "Requirement already satisfied: tweepy in /usr/local/lib/python3.6/dist-packages (3.6.0)\n",
            "Requirement already satisfied: PySocks>=1.5.7 in /usr/local/lib/python3.6/dist-packages (from tweepy) (1.7.1)\n",
            "Requirement already satisfied: six>=1.10.0 in /usr/local/lib/python3.6/dist-packages (from tweepy) (1.12.0)\n",
            "Requirement already satisfied: requests>=2.11.1 in /usr/local/lib/python3.6/dist-packages (from tweepy) (2.23.0)\n",
            "Requirement already satisfied: requests-oauthlib>=0.7.0 in /usr/local/lib/python3.6/dist-packages (from tweepy) (1.3.0)\n",
            "Requirement already satisfied: certifi>=2017.4.17 in /usr/local/lib/python3.6/dist-packages (from requests>=2.11.1->tweepy) (2020.4.5.1)\n",
            "Requirement already satisfied: idna<3,>=2.5 in /usr/local/lib/python3.6/dist-packages (from requests>=2.11.1->tweepy) (2.9)\n",
            "Requirement already satisfied: chardet<4,>=3.0.2 in /usr/local/lib/python3.6/dist-packages (from requests>=2.11.1->tweepy) (3.0.4)\n",
            "Requirement already satisfied: urllib3!=1.25.0,!=1.25.1,<1.26,>=1.21.1 in /usr/local/lib/python3.6/dist-packages (from requests>=2.11.1->tweepy) (1.24.3)\n",
            "Requirement already satisfied: oauthlib>=3.0.0 in /usr/local/lib/python3.6/dist-packages (from requests-oauthlib>=0.7.0->tweepy) (3.1.0)\n",
            "[nltk_data] Downloading package punkt to /root/nltk_data...\n",
            "[nltk_data]   Unzipping tokenizers/punkt.zip.\n",
            "[nltk_data] Downloading package stopwords to /root/nltk_data...\n",
            "[nltk_data]   Unzipping corpora/stopwords.zip.\n",
            "[nltk_data] Downloading package wordnet to /root/nltk_data...\n",
            "[nltk_data]   Unzipping corpora/wordnet.zip.\n",
            "[nltk_data] Downloading package averaged_perceptron_tagger to\n",
            "[nltk_data]     /root/nltk_data...\n",
            "[nltk_data]   Unzipping taggers/averaged_perceptron_tagger.zip.\n"
          ],
          "name": "stdout"
        },
        {
          "output_type": "stream",
          "text": [
            "/usr/local/lib/python3.6/dist-packages/sklearn/externals/joblib/__init__.py:15: FutureWarning: sklearn.externals.joblib is deprecated in 0.21 and will be removed in 0.23. Please import this functionality directly from joblib, which can be installed with: pip install joblib. If this warning is raised when loading pickled models, you may need to re-serialize those models with scikit-learn 0.21+.\n",
            "  warnings.warn(msg, category=FutureWarning)\n"
          ],
          "name": "stderr"
        }
      ]
    },
    {
      "cell_type": "code",
      "metadata": {
        "id": "V1pPV4XYA4X8",
        "colab_type": "code",
        "colab": {}
      },
      "source": [
        "from sklearn.metrics import roc_curve, auc"
      ],
      "execution_count": 0,
      "outputs": []
    },
    {
      "cell_type": "markdown",
      "metadata": {
        "id": "eAdnk_YBUve6",
        "colab_type": "text"
      },
      "source": [
        "# Utility functions"
      ]
    },
    {
      "cell_type": "code",
      "metadata": {
        "id": "lUmViRbfUvGT",
        "colab_type": "code",
        "colab": {}
      },
      "source": [
        "def print_balance(df, col='senti'):\n",
        "    if type(df) == pd.DataFrame:\n",
        "        counts = df[col].value_counts(normalize=True)\n",
        "    else:\n",
        "        labels, counts = np.unique(y_test, return_counts=True)\n",
        "        counts = dict(zip(labels, counts / len(y_test)))\n",
        "\n",
        "    print('This dataset contains {0} negative tweets ({1:.1%})'.format(int(counts[0]*len(df)), counts[0]))\n",
        "    print('This dataset contains {0} neutral tweets ({1:.1%})'.format(int(counts[2]*len(df)), counts[2]))\n",
        "    print('This dataset contains {0} positive tweets ({1:.1%})'.format(int(counts[4]*len(df)), counts[4]))\n",
        "    return counts\n",
        "\n",
        "def balance(df, col='senti', weights=(1, 1, 1)):\n",
        "    # Get the number of observations with each classification\n",
        "    counts = df[col].value_counts(normalize=True)\n",
        "\n",
        "    # Get the smallest number of observations for a sentiment label\n",
        "    minNum = int(counts.min() * len(df))\n",
        "\n",
        "    # Split the observations by sentiment and keep the same number of observations for each\n",
        "    df_neg = df[df.senti == 0].iloc[:int(minNum*weights[0]), :]\n",
        "    df_neu = df[df.senti == 2].iloc[:int(minNum*weights[1]), :]\n",
        "    df_pos = df[df.senti == 4].iloc[:int(minNum*weights[2]), :]\n",
        "\n",
        "    # Combine observations back into one dataframe \n",
        "    df_bal = pd.concat([df_neg, df_neu, df_pos])\n",
        "    return df_bal\n",
        "\n",
        "def clean_sentiment(s):\n",
        "    '''\n",
        "    This function cleans the sentiment label for tweets in the Sanders Analytics dataset.\n",
        "    \n",
        "    Inputs: string (sentiment label : {'negative', 'neutral', 'positive'})\n",
        "    Outputs: integer (sentiment label : {0, 2, 4})\n",
        "    '''\n",
        "    if s == 'positive':\n",
        "        return 4\n",
        "    elif s == 'negative':\n",
        "        return 0\n",
        "    else:\n",
        "        return 2\n",
        "\n",
        "def preprocessTweets(text):\n",
        "\n",
        "    text = text.translate(str.maketrans('', '', string.punctuation))    # Remove punctuation\n",
        "    text = re.sub('((www\\.[^\\s]+)|(https?://[^\\s]+))', 'URL', text)     # Remove URLs\n",
        "    text = re.sub('@[^\\s]+', 'AT_USER', text)                           # Remove usernames\n",
        "    \n",
        "    return text\n",
        "\n",
        "\n",
        "class ClfSwitcher(BaseEstimator):\n",
        "\n",
        "    def __init__(self, estimator=SVC()):\n",
        "        \"\"\"\n",
        "        A Custom BaseEstimator that can switch between classifiers.\n",
        "        :param estimator: sklearn object - The classifier\n",
        "        \"\"\" \n",
        "\n",
        "        self.estimator = estimator\n",
        "\n",
        "    def fit(self, X, y=None, **kwargs):\n",
        "        self.estimator.fit(X, y)\n",
        "        return self\n",
        "\n",
        "    def predict(self, X, y=None):\n",
        "        return self.estimator.predict(X)\n",
        "\n",
        "    def predict_proba(self, X):\n",
        "        return self.estimator.predict_proba(X)\n",
        "\n",
        "    def score(self, X, y):\n",
        "        return self.estimator.score(X, y)"
      ],
      "execution_count": 0,
      "outputs": []
    },
    {
      "cell_type": "markdown",
      "metadata": {
        "id": "50qrS6RVfTOq",
        "colab_type": "text"
      },
      "source": [
        "# Get Training Data\n",
        "\n",
        "For our training data, we will use two datasets."
      ]
    },
    {
      "cell_type": "markdown",
      "metadata": {
        "id": "cj0KfDMmPE2E",
        "colab_type": "text"
      },
      "source": [
        "The first dataset we will use comes from GitHub user [TharinduMunasinge](https://github.com/TharinduMunasinge/Twitter-Sentiment-Analysis/tree/master/DataSet). This dataset contains 997 tweets that have a pre-labeled sentiment:\n",
        " * 0 = negative\n",
        " * 2 = neutral\n",
        " * 4 = positive"
      ]
    },
    {
      "cell_type": "code",
      "metadata": {
        "id": "hQDprSKllSNL",
        "colab_type": "code",
        "outputId": "c80ec194-5e67-439c-e197-d818d31ea674",
        "colab": {
          "base_uri": "https://localhost:8080/",
          "height": 204
        }
      },
      "source": [
        "data1 = pd.read_csv('https://github.com/TharinduMunasinge/Twitter-Sentiment-Analysis/raw/master/DataSet/FinalizedFull.csv').rename(columns={'tweet':'text'})\n",
        "data1.head()"
      ],
      "execution_count": 3,
      "outputs": [
        {
          "output_type": "execute_result",
          "data": {
            "text/html": [
              "<div>\n",
              "<style scoped>\n",
              "    .dataframe tbody tr th:only-of-type {\n",
              "        vertical-align: middle;\n",
              "    }\n",
              "\n",
              "    .dataframe tbody tr th {\n",
              "        vertical-align: top;\n",
              "    }\n",
              "\n",
              "    .dataframe thead th {\n",
              "        text-align: right;\n",
              "    }\n",
              "</style>\n",
              "<table border=\"1\" class=\"dataframe\">\n",
              "  <thead>\n",
              "    <tr style=\"text-align: right;\">\n",
              "      <th></th>\n",
              "      <th>text</th>\n",
              "      <th>senti</th>\n",
              "    </tr>\n",
              "  </thead>\n",
              "  <tbody>\n",
              "    <tr>\n",
              "      <th>0</th>\n",
              "      <td>@united UA5396 can wait for me. I'm on the gro...</td>\n",
              "      <td>0</td>\n",
              "    </tr>\n",
              "    <tr>\n",
              "      <th>1</th>\n",
              "      <td>I hate Time Warner! Soooo wish I had Vios. Can...</td>\n",
              "      <td>0</td>\n",
              "    </tr>\n",
              "    <tr>\n",
              "      <th>2</th>\n",
              "      <td>@united Oh, we are sure it's not planned, but ...</td>\n",
              "      <td>0</td>\n",
              "    </tr>\n",
              "    <tr>\n",
              "      <th>3</th>\n",
              "      <td>Tom Shanahan's latest column on SDSU and its N...</td>\n",
              "      <td>2</td>\n",
              "    </tr>\n",
              "    <tr>\n",
              "      <th>4</th>\n",
              "      <td>Found the self driving car!! /IWo3QSvdu2</td>\n",
              "      <td>2</td>\n",
              "    </tr>\n",
              "  </tbody>\n",
              "</table>\n",
              "</div>"
            ],
            "text/plain": [
              "                                                text  senti\n",
              "0  @united UA5396 can wait for me. I'm on the gro...      0\n",
              "1  I hate Time Warner! Soooo wish I had Vios. Can...      0\n",
              "2  @united Oh, we are sure it's not planned, but ...      0\n",
              "3  Tom Shanahan's latest column on SDSU and its N...      2\n",
              "4           Found the self driving car!! /IWo3QSvdu2      2"
            ]
          },
          "metadata": {
            "tags": []
          },
          "execution_count": 3
        }
      ]
    },
    {
      "cell_type": "code",
      "metadata": {
        "id": "sOCWOfJFPLUd",
        "colab_type": "code",
        "outputId": "455ba4f9-eea3-4378-c3be-5a917fcc8019",
        "colab": {
          "base_uri": "https://localhost:8080/",
          "height": 68
        }
      },
      "source": [
        "# Check the balance of the dataset\n",
        "counts1 = print_balance(data1)"
      ],
      "execution_count": 40,
      "outputs": [
        {
          "output_type": "stream",
          "text": [
            "This dataset contains 377 negative tweets (37.8%)\n",
            "This dataset contains 239 neutral tweets (24.0%)\n",
            "This dataset contains 381 positive tweets (38.2%)\n"
          ],
          "name": "stdout"
        }
      ]
    },
    {
      "cell_type": "markdown",
      "metadata": {
        "id": "b6Uf-xmIRMA_",
        "colab_type": "text"
      },
      "source": [
        "As we can see, this dataset is not balanced. More tweets are labeled positive or negative than neutral. While this may be representative of all tweets, we may need to consider this so as to not bias our model. However, this dataset contains relatively few observations, so we will combine it with another dataset of labeled tweets as well."
      ]
    },
    {
      "cell_type": "markdown",
      "metadata": {
        "id": "6q5asy0bSCk8",
        "colab_type": "text"
      },
      "source": [
        "The [second dataset](https://github.com/zfz/twitter_corpus) we will use in our training set comes from the twitter sentiment corpus created by Sanders Analytics. This dataset consists of 3424 relevant hand-classified tweets. Irrelevant observations in this dataset include Spanish content. For this project, we will restrict our model to only classify English tweets."
      ]
    },
    {
      "cell_type": "code",
      "metadata": {
        "id": "Ks9cEN71BvyK",
        "colab_type": "code",
        "outputId": "146a11bd-1643-4f75-9ede-3417d2ef7120",
        "colab": {
          "base_uri": "https://localhost:8080/",
          "height": 204
        }
      },
      "source": [
        "# Read in the dataset\n",
        "data2 = pd.read_csv('https://raw.githubusercontent.com/zfz/twitter_corpus/master/full-corpus.csv')[['Sentiment', 'TweetText']].rename(columns={'Sentiment':'senti', 'TweetText':'text'})\n",
        "\n",
        "# Drop all spanish observations\n",
        "data2 = data2[data2.senti != 'irrelevant']\n",
        "\n",
        "# Clean the sentiment labels\n",
        "data2['senti'] = data2['senti'].apply(clean_sentiment)\n",
        "\n",
        "data2.head()"
      ],
      "execution_count": 5,
      "outputs": [
        {
          "output_type": "execute_result",
          "data": {
            "text/html": [
              "<div>\n",
              "<style scoped>\n",
              "    .dataframe tbody tr th:only-of-type {\n",
              "        vertical-align: middle;\n",
              "    }\n",
              "\n",
              "    .dataframe tbody tr th {\n",
              "        vertical-align: top;\n",
              "    }\n",
              "\n",
              "    .dataframe thead th {\n",
              "        text-align: right;\n",
              "    }\n",
              "</style>\n",
              "<table border=\"1\" class=\"dataframe\">\n",
              "  <thead>\n",
              "    <tr style=\"text-align: right;\">\n",
              "      <th></th>\n",
              "      <th>senti</th>\n",
              "      <th>text</th>\n",
              "    </tr>\n",
              "  </thead>\n",
              "  <tbody>\n",
              "    <tr>\n",
              "      <th>0</th>\n",
              "      <td>4</td>\n",
              "      <td>Now all @Apple has to do is get swype on the i...</td>\n",
              "    </tr>\n",
              "    <tr>\n",
              "      <th>1</th>\n",
              "      <td>4</td>\n",
              "      <td>@Apple will be adding more carrier support to ...</td>\n",
              "    </tr>\n",
              "    <tr>\n",
              "      <th>2</th>\n",
              "      <td>4</td>\n",
              "      <td>Hilarious @youtube video - guy does a duet wit...</td>\n",
              "    </tr>\n",
              "    <tr>\n",
              "      <th>3</th>\n",
              "      <td>4</td>\n",
              "      <td>@RIM you made it too easy for me to switch to ...</td>\n",
              "    </tr>\n",
              "    <tr>\n",
              "      <th>4</th>\n",
              "      <td>4</td>\n",
              "      <td>I just realized that the reason I got into twi...</td>\n",
              "    </tr>\n",
              "  </tbody>\n",
              "</table>\n",
              "</div>"
            ],
            "text/plain": [
              "   senti                                               text\n",
              "0      4  Now all @Apple has to do is get swype on the i...\n",
              "1      4  @Apple will be adding more carrier support to ...\n",
              "2      4  Hilarious @youtube video - guy does a duet wit...\n",
              "3      4  @RIM you made it too easy for me to switch to ...\n",
              "4      4  I just realized that the reason I got into twi..."
            ]
          },
          "metadata": {
            "tags": []
          },
          "execution_count": 5
        }
      ]
    },
    {
      "cell_type": "code",
      "metadata": {
        "id": "xHT5w5apSblQ",
        "colab_type": "code",
        "outputId": "844559ee-ae97-4f97-f47d-599d35985667",
        "colab": {
          "base_uri": "https://localhost:8080/",
          "height": 68
        }
      },
      "source": [
        "# Check the balance of the dataset\n",
        "counts2 = print_balance(data2)"
      ],
      "execution_count": 41,
      "outputs": [
        {
          "output_type": "stream",
          "text": [
            "This dataset contains 572 negative tweets (16.7%)\n",
            "This dataset contains 2333 neutral tweets (68.1%)\n",
            "This dataset contains 519 positive tweets (15.2%)\n"
          ],
          "name": "stdout"
        }
      ]
    },
    {
      "cell_type": "markdown",
      "metadata": {
        "id": "Xb-dMyYaT3ul",
        "colab_type": "text"
      },
      "source": [
        "Unlike the first dataset, this corpus contains significantly more neutral tweets than it does positive/negative tweets. In any case, we will combine these two datasets to create a larger training set to work with.\n",
        "\n",
        "**[INCLUDE STATEMENT EXPLAINING WHAT PREPROCESSING DOES**"
      ]
    },
    {
      "cell_type": "code",
      "metadata": {
        "id": "nILYW_U3UgY0",
        "colab_type": "code",
        "outputId": "64716fa7-db86-442f-dce7-b338b0cfb0fa",
        "colab": {
          "base_uri": "https://localhost:8080/",
          "height": 68
        }
      },
      "source": [
        "# Concatenate both training sets and preprocess tweets\n",
        "train = pd.concat([data1, data2])\n",
        "train['text'] = train['text'].apply(preprocessTweets)\n",
        "\n",
        "# Check the balance of the dataset\n",
        "train_counts = print_balance(train)"
      ],
      "execution_count": 7,
      "outputs": [
        {
          "output_type": "stream",
          "text": [
            "This dataset contains 949 negative tweets (21.5%)\n",
            "This dataset contains 2572 neutral tweets (58.2%)\n",
            "This dataset contains 900 positive tweets (20.4%)\n"
          ],
          "name": "stdout"
        }
      ]
    },
    {
      "cell_type": "markdown",
      "metadata": {
        "id": "YJ9-oRJ3UXif",
        "colab_type": "text"
      },
      "source": [
        "In our comined training set, the number of neutral tweets is much larger than either of the other sentiments. Because neutral tweets are much harder to learn, it makes sense that we have a higher representation of these examples when training our model. For example, [this tweet](https://twitter.com/jtalmarode/status/1252743931311333377?s=20)\n",
        "\n",
        "\n",
        "> That is awesome!  I love this!\n",
        "\n",
        "is very easy and trivial to classify as positive. Likewise, [this tweet](https://twitter.com/Teelaniece/status/1252744624403333120)\n",
        "\n",
        "> I hate people like wtf\n",
        "\n",
        "can be classified as negative without much difficult as well. However, [this tweet](https://twitter.com/Kieronbeckett/status/1252742514160926722)\n",
        "\n",
        "> Mr Lee, it is because I vape that I now can exercise more. Here is my take on forgetting bad memories, I have done it all my life ...its called a new day.\n",
        "\n",
        "is much harder to decipher. It appears the person is in an argument and trying to keep his temper while also pushing an uplifting tone. Is it positive? Not really. Is it negative? Also no. Is it neutral? I guess? It is much more difficult to discern neutral tweets. With this in mind, we will keep our training set unbalanced in favor of having more neutral tweets to train our model.\n",
        "\n"
      ]
    },
    {
      "cell_type": "code",
      "metadata": {
        "id": "-xAwNoKD8okU",
        "colab_type": "code",
        "colab": {
          "base_uri": "https://localhost:8080/",
          "height": 68
        },
        "outputId": "be080427-39f5-4482-e9bc-d7cd1bad92b1"
      },
      "source": [
        "# Create an adjusted dataset where there are twice as many neutral tweets as positive or negative tweets\n",
        "train_adj = balance(train, weights=(1, 1.5, 1))\n",
        "\n",
        "# Check the adjusted of the dataset\n",
        "train_counts = print_balance(train_adj)\n",
        "\n",
        "# Create train and test sets\n",
        "X_train, X_test, y_train, y_test = train_test_split(train_adj.text.values, train_adj.senti.values, random_state=637)"
      ],
      "execution_count": 59,
      "outputs": [
        {
          "output_type": "stream",
          "text": [
            "This dataset contains 900 negative tweets (28.6%)\n",
            "This dataset contains 1350 neutral tweets (42.9%)\n",
            "This dataset contains 900 positive tweets (28.6%)\n"
          ],
          "name": "stdout"
        }
      ]
    },
    {
      "cell_type": "code",
      "metadata": {
        "id": "qdfY0QjGITsU",
        "colab_type": "code",
        "colab": {}
      },
      "source": [
        "# Create train and test sets\n",
        "X_train, X_test, y_train, y_test = train_test_split(train.text.values, train.senti.values, random_state=637)"
      ],
      "execution_count": 0,
      "outputs": []
    },
    {
      "cell_type": "markdown",
      "metadata": {
        "id": "uAHmYM47IY6n",
        "colab_type": "text"
      },
      "source": [
        "It may be useful later on to see how our model performs on a balanced dataset versus an unbalanced (and perhaps more representative) dataset. "
      ]
    },
    {
      "cell_type": "code",
      "metadata": {
        "id": "zwvToCqPIX7M",
        "colab_type": "code",
        "outputId": "3b1da1be-2d13-4860-c937-d5bea934751a",
        "colab": {
          "base_uri": "https://localhost:8080/",
          "height": 170
        }
      },
      "source": [
        "# Split the test set into two equal parts\n",
        "X_test_bal, X_test_full, y_test_bal, y_test_full = train_test_split(X_test, y_test, test_size=0.5, random_state=637)\n",
        "\n",
        "# See composition of unbalanced test set\n",
        "print('\\033[1mComposition of unbalanced test set:\\033[0m')\n",
        "print_balance(y_test_full)\n",
        "\n",
        "# Create the balanced dataframe\n",
        "test_bal = pd.DataFrame({'text':X_test_bal, 'senti':y_test_bal})\n",
        "test_bal = balance(test_bal)\n",
        "print('\\n\\033[1mComposition of balanced test set:\\033[0m')\n",
        "print_balance(test_bal)\n",
        "\n",
        "X_test_bal = test_bal.text.values\n",
        "y_test_bal = test_bal.senti.values"
      ],
      "execution_count": 64,
      "outputs": [
        {
          "output_type": "stream",
          "text": [
            "\u001b[1mComposition of unbalanced test set:\u001b[0m\n",
            "This dataset contains 111 negative tweets (20.2%)\n",
            "This dataset contains 327 neutral tweets (59.1%)\n",
            "This dataset contains 114 positive tweets (20.7%)\n",
            "\n",
            "\u001b[1mComposition of balanced test set:\u001b[0m\n",
            "This dataset contains 114 negative tweets (33.3%)\n",
            "This dataset contains 114 neutral tweets (33.3%)\n",
            "This dataset contains 114 positive tweets (33.3%)\n"
          ],
          "name": "stdout"
        }
      ]
    },
    {
      "cell_type": "markdown",
      "metadata": {
        "id": "tf2jhR-gW_-s",
        "colab_type": "text"
      },
      "source": [
        "# Overall Methodology"
      ]
    },
    {
      "cell_type": "markdown",
      "metadata": {
        "id": "C6G8KT8Th5hR",
        "colab_type": "text"
      },
      "source": [
        "First, we will use `CountVectorizer` to create a dictionary where the keys are every word in the training set and the values are the frequencies of each word.\n",
        "```\n",
        "bow = CountVectorizer(lowercase=True, \n",
        "                      strip_accents='ascii',\n",
        "                      stop_words='english')\n",
        "bow.fit(X)\n",
        "```\n",
        "Next, we will convert the tweet text data (which is a 1D array) to an $n*w$ matrix, where *n* is the number of tweets in the training data and *w* is the number of words in the vocabulary dictionary. Each value in the matrix represents the number of times a given word appears in a given tweet. This will result in a very sparse dataset.\n",
        "```\n",
        "bow_matrix = bow.transform(X)\n",
        "```\n",
        "After this, we will use `TfidfTransformer` to calculate the term-frequency times inverse document-frequency (tf-idf) value for each word in the training set. \n",
        " * term-frequency is the number of times the word appears in a tweet\n",
        " * inverse document-frequency is the number of texts that contain the word\n",
        "\n",
        "Hence, a word's tf-idf score increases proportionally to the number of times it appears in the text, and is offset by the total number of tweets that contain the word. This is used to determine the importance of a word in a given tweet. The more times the word appears in the tweet, the more important it must be to the sentiment of the tweet. However, if many tweets contain this word, it must not be as important in differentiating between sentiments.\n",
        "\n",
        "The `fit()` method will learn the idf vector, which is the total number of tweets that contain each word. The `transform()` method will compute the tf vector and calculate the tf-idf matrix.\n",
        "```\n",
        "tfidf_transformer = TfidfTransformer()\n",
        "tfdif.fit(bow_matrix)\n",
        "messages_tfidf = tfidf_transformer.transform(bow_matrix)\n",
        "```\n",
        "Finally, we will use `MultinomialNB` to train the tf-idf vectors with a Naive-Bayes classifier. This will be the final model that is used to classify tweet sentiment.\n",
        "```\n",
        "model = MultinomialNB().fit(messages_tdidf)\n",
        "```\n",
        "---\n",
        "</br>"
      ]
    },
    {
      "cell_type": "markdown",
      "metadata": {
        "id": "Et0aZsZdsMll",
        "colab_type": "text"
      },
      "source": [
        "## Streamlined Methodology"
      ]
    },
    {
      "cell_type": "markdown",
      "metadata": {
        "id": "Qaydsy9osHIr",
        "colab_type": "text"
      },
      "source": [
        "Notice in the previous methodology that the three estimators (`CountVectorizer`, `TfidfTransformer`, and `MultinomialNB`) are used almost identically. Each estimator is instantiated, fit with the most recent estimator, and then transformed (except for the final estimator, which need only be trained). This process can be streamlined by using the `Pipeline` object. This object will conduct a series of fits and transforms. The code below will replicate the desired exuctions:\n",
        " * fit a `CountVectorizer` to the training set and transform it on the training data\n",
        " * fit a `TdifdTransformer` to the previous estimator and transform it on the previous estimator\n",
        " * fit a `MultinomialNB` to the previous estimator\n",
        "\n",
        "```\n",
        "pipeline = Pipeline([\n",
        "        ('bow', CountVectorizer(lowercase=True, \n",
        "                                strip_accents='ascii',\n",
        "                                stop_words='english')),\n",
        "        ('tfidf', TfidfTransformer()),\n",
        "        ('classifier', MultinomialNB()),\n",
        "        ])\n",
        "```\n",
        "The first element of each tuple passed into the `Pipeline` is the name of the estimator. The second element of each tuple is the estimator itself, instantiated with any non-changing arguments.\n",
        "\n",
        "---\n",
        "\n",
        "</br>\n"
      ]
    },
    {
      "cell_type": "markdown",
      "metadata": {
        "id": "D50xEu2lsPTX",
        "colab_type": "text"
      },
      "source": [
        "## Cross Validation"
      ]
    },
    {
      "cell_type": "markdown",
      "metadata": {
        "id": "N7nibrIgsDC_",
        "colab_type": "text"
      },
      "source": [
        "The benefit of using the `Pipeline` approach is that it allows us to apply cross validation on all three of our estimators at once. Using `GridSearchCV`, we are able to create models that cycle through a given set of hyperparamters. \n",
        "\n",
        "Tthe `parameters` dictionary contains the set of hyperparameters to loop through. In our case, the hyperparameters of our model are the arguments that are passed into each estimator. The parameters dictionary is created using the following format:\n",
        "```\n",
        "parameters = {estimatorName__argumentName : [list_of_hyperparameters]}\n",
        "\n",
        "parameters = {'bow__ngram_range': [(1, 1), (1, 2)],\n",
        "              'tfidf__norm' : ['l1', 'l2'],\n",
        "              'classifier__fit_prior' : [True, False],\n",
        "              'classifier__alpha' : np.arange(0.1, 1.5, 16)\n",
        "               }\n",
        "```\n",
        "We can then find and compute the best hyperparameters for our model by cycling through these argyments and using 10-fold cross validation. Using the optimal hyperparameters, we can then train out final model on the full training set.\n",
        "```\n",
        "grid = GridSearchCV(pipeline, cv=10, param_grid=parameters, verbose=1)\n",
        "grid.fit(X, y)\n",
        "```\n",
        "\n",
        "---\n",
        "\n",
        "</br>"
      ]
    },
    {
      "cell_type": "markdown",
      "metadata": {
        "id": "uV24q3l0sRpz",
        "colab_type": "text"
      },
      "source": [
        "## Testing Multiple Classifiers"
      ]
    },
    {
      "cell_type": "markdown",
      "metadata": {
        "id": "rgs_SPF1r_aX",
        "colab_type": "text"
      },
      "source": [
        "One last improvement we can make is to add a `CLFSwitcher` function that will allow us to use different classifier methods in our `Pipeline` process. This object needs to extend the `fit()`, `predict()`, `predict_proba()`, and `score()` methods of the classifier to be used. To implement this change, we need to make slight adjustments to our `Pipeline` process and parameters list.\n",
        "```\n",
        "pipeline = Pipeline([\n",
        "        ('bow', CountVectorizer(lowercase=True, \n",
        "                                strip_accents='ascii',\n",
        "                                stop_words='english')),\n",
        "        ('tfidf', TfidfTransformer()),\n",
        "        ('clf', CLFSwitcher()),           # Change this estimator to the CLFSwitcher           \n",
        "        ])\n",
        "```\n",
        "\n",
        "In our parameters list, we create multiple dictionaries -- one for each classifier. For two classifiers, the parameters list would look like\n",
        "```\n",
        " parameters = [\n",
        "            {'clf__estimator': [MultinomialNB()],\n",
        "             'bow__ngram_range': [(1, 1), (1, 2)],\n",
        "             'tfidf__norm' : ['l1', 'l2'],\n",
        "             'clf__estimator__fit_prior' : [True, False],\n",
        "             'clf__estimator__alpha' : np.arange(0.1, 1.5, 16)\n",
        "            },\n",
        "            {'clf__estimator': [SGDClassifier(random_state=637, n_jobs=-1)],\n",
        "             'bow__ngram_range': [(1, 1), (1, 2)],\n",
        "             'tfidf__norm' : ['l1', 'l2'],\n",
        "             'clf__estimator__loss': ['hinge', 'log', 'modified_huber'],\n",
        "             'clf__estimator__penalty': ['l1', 'l2', 'elasticnet']\n",
        "            },\n",
        "```\n",
        "For this project, we will be cross validating with the following classifiers:\n",
        " * Support Vector Machines\n",
        " * Naive Bayes\n",
        " * Stochastic Gradient Descent\n",
        " * K-Nearest Neighbor\n",
        " * Random Forests\n",
        " * Perceptron\n",
        " * Logistic Regression\n",
        "\n",
        "By cross validating among each of these classifiers (as well as cross validating among the hyperparameters of each estimator) we will be able to acheive an the best model possible for our training data."
      ]
    },
    {
      "cell_type": "markdown",
      "metadata": {
        "id": "XDiG1tdzXLW_",
        "colab_type": "text"
      },
      "source": [
        "# Model Code\n",
        "\n",
        "This is the class for our tiwtter sentiment analysis model that implements the above methodology in a clean and user-friendly manner."
      ]
    },
    {
      "cell_type": "code",
      "metadata": {
        "id": "gNw6ZHZRUIPK",
        "colab_type": "code",
        "colab": {}
      },
      "source": [
        "class TwitterSentimentModel():\n",
        "\n",
        "    def __init__(self):\n",
        "        pass\n",
        "\n",
        "    def fit(self, X, y, classifier='all', cv=10, verbose=False):\n",
        "\n",
        "        # Create the Pipeline object\n",
        "        pipeline = Pipeline([\n",
        "            ('bow', CountVectorizer(lowercase=True, \n",
        "                                    strip_accents='ascii',\n",
        "                                    stop_words='english')),\n",
        "            ('tfidf', TfidfTransformer()),\n",
        "            ('clf', ClfSwitcher())\n",
        "        ])\n",
        "\n",
        "        # this is where we define the values for GridSearchCV to iterate over\n",
        "        parameters = [\n",
        "            { # For SVM, the best accuracy was 70.67% on the test data (71.36% on training data) -- runs in about 60 sec\n",
        "             'clf__estimator': [SVC(random_state=637)],\n",
        "             'bow__ngram_range': [(1, 1), (1, 2)],\n",
        "             'tfidf__norm' : ['l1', 'l2'],\n",
        "             'clf__estimator__kernel' : ['rbf', 'linear', 'sigmoid'],\n",
        "            },\n",
        "            { # For Naive Bayes, the best accuracy was 68.30% on the test data (70.12% on training data) -- runs in about 5.1 sec\n",
        "             'clf__estimator': [MultinomialNB()],\n",
        "             'bow__ngram_range': [(1, 1), (1, 2)],\n",
        "             'tfidf__norm' : ['l1', 'l2'],\n",
        "             'clf__estimator__fit_prior' : [True, False],\n",
        "             'clf__estimator__alpha' : np.arange(0.1, 1.5, 16)\n",
        "            },\n",
        "            { # For SGD, the best accuracy was 72.15% on the test data (72.74% on training data) -- runs in about 34.3 sec\n",
        "             'clf__estimator': [SGDClassifier(random_state=637, n_jobs=-1)],\n",
        "             'bow__ngram_range': [(1, 1), (1, 2)],\n",
        "             'tfidf__norm' : ['l1', 'l2'],\n",
        "             'clf__estimator__loss': ['log', 'modified_huber'],\n",
        "             'clf__estimator__penalty': ['l1', 'l2', 'elasticnet']\n",
        "            },\n",
        "            { # For KNN, the best accuracy was 62.96% on the test data (64.25% on training data) -- runs in about 35.3 sec\n",
        "             'clf__estimator': [KNeighborsClassifier()],\n",
        "             'bow__ngram_range': [(1, 1), (1, 2)],\n",
        "             'tfidf__norm' : ['l1', 'l2'],\n",
        "             'clf__estimator__leaf_size': [10, 30, 50],\n",
        "             'clf__estimator__n_neighbors' : [1, 5, 10, 20]\n",
        "            },\n",
        "            { # For Random Forests, the best accuracy was 68.30% on the test data (69.13% on training data) -- runs in about 1.7 min (102 sec)\n",
        "             'clf__estimator': [RandomForestClassifier(random_state=637, n_jobs=-1)],\n",
        "             'bow__ngram_range': [(1, 1)],\n",
        "             'tfidf__norm' : ['l1', 'l2'],\n",
        "             'clf__estimator__criterion' : ['gini', 'entropy'],\n",
        "             'clf__estimator__min_samples_leaf' : [1, 5],\n",
        "             'clf__estimator__max_depth' : [5, 25, None]\n",
        "            },\n",
        "            { # For Perceptron, the best accuracy was 69.93% on the test data (69.87% on training data) -- runs in about 11.2 sec\n",
        "             'clf__estimator': [Perceptron(random_state=637, n_jobs=-1)],\n",
        "             'bow__ngram_range': [(1, 1), (1, 2)],\n",
        "             'tfidf__norm' : ['l1', 'l2'],\n",
        "             'clf__estimator__penalty': ['l1', 'l2', 'elasticnet']\n",
        "            },\n",
        "            { # For Logistic Regression, the best accuracy was 69.48% on the test data (70.12% on training data) -- runs in about 14.1 sec\n",
        "             'clf__estimator': [LogisticRegression(random_state=637, n_jobs=-1)],\n",
        "             'bow__ngram_range': [(1, 1), (1, 2)],\n",
        "             'tfidf__norm' : ['l1', 'l2'],\n",
        "             'clf__estimator__C' : np.arange(0.5, 1.5, 11)\n",
        "            }]\n",
        "        \n",
        "        param_dict = {'SVM' : 0, \n",
        "                      'Naive Bayes' : 1,\n",
        "                      'SGD' : 2,\n",
        "                      'KNN' : 3,\n",
        "                      'Random Forest' : 4,\n",
        "                      'Perceptron' : 5,\n",
        "                      'Logistic Regression' : 6}\n",
        "\n",
        "        if classifier != 'all':\n",
        "            parameters = parameters[param_dict[classifier]]\n",
        "        else:\n",
        "            pass\n",
        "            #parameters = parameters[1:4]\n",
        "\n",
        "        # do 10-fold cross validation for each of the combinations of the above params\n",
        "        self.grid = GridSearchCV(pipeline, cv=cv, param_grid=parameters, n_jobs=-1, verbose=1)\n",
        "        self.grid.fit(X, y)\n",
        "\n",
        "        # summarize results\n",
        "        print(\"\\nBest Model: {0:.2%} using {1}\".format(self.grid.best_score_, self.grid.best_params_))\n",
        "        print('\\n')\n",
        "        self.compile_results()\n",
        "\n",
        "\n",
        "    def compile_results(self):\n",
        "        self.means = self.grid.cv_results_['mean_test_score']\n",
        "        self.stds = self.grid.cv_results_['std_test_score']\n",
        "        self.params = self.grid.cv_results_['params']\n",
        "\n",
        "        # Define the estimator tested\n",
        "        estimators = {SVC : 'SVC',\n",
        "                MultinomialNB : 'Naive Bayes',\n",
        "                SGDClassifier : 'SGD',\n",
        "                KNeighborsClassifier : 'KNN',\n",
        "                RandomForestClassifier : 'Random Forest',\n",
        "                Perceptron : 'Perceptron',\n",
        "                LogisticRegression : 'Logistic Regression'}\n",
        "\n",
        "        # Organize the estimator performance into a data frame\n",
        "        data = {'Estimator':[estimators[type(e['clf__estimator'])] for e in self.params],\n",
        "                'score': self.means,\n",
        "                'ngram_range': [e['bow__ngram_range'] for e in self.params],\n",
        "                'tfidf__norm' : [e['tfidf__norm'] for e in self.params],\n",
        "                'computing_time' : self.grid.cv_results_['mean_fit_time'],\n",
        "                'estimator_obj' : [e['clf__estimator'] for e in self.params]}\n",
        "\n",
        "        self.all_results = pd.DataFrame(data=data)\n",
        "\n",
        "        # Get the best performing model for each estimator\n",
        "        idx = self.all_results.groupby(['Estimator'])['score'].transform(max) == self.all_results['score']\n",
        "        self.results = self.all_results[idx]\n",
        "        idx = self.results.groupby(['Estimator'])['computing_time'].transform(max) == self.results['computing_time']\n",
        "        self.results = self.results[idx].set_index('Estimator')\n",
        "\n",
        "    def print_all_results(self):\n",
        "        for mean, stdev, param in zip(self.means, self.stds, self.params):\n",
        "            param = param.copy()\n",
        "            del param['clf__estimator']\n",
        "            print(\"Mean: %f Stdev:(%f) with: %r\" % (mean, stdev, param))\n",
        "\n",
        "    def score(self, X, y, verbose=False):\n",
        "        return self.grid.score(X, y)\n",
        "\n",
        "    def predict(self, X, vebose=False):\n",
        "        return self.grid.predict(X)\n",
        "\n",
        "    def predict_proba(self, X):\n",
        "        return self.grid.predict_proba(X)\n",
        "        \n",
        "    def classification_report(self, X, y):\n",
        "        y_preds = self.predict(X)\n",
        "        print(classification_report(y, y_preds))\n",
        "\n",
        "    def confusion_matrix(self, X, y):\n",
        "        y_preds = self.predict(X)\n",
        "        print('\\nconfusion matrix: \\n',confusion_matrix(y,y_preds), '\\n')\n",
        "\n",
        "    def estimator_performance(self, metric='score', ylim=(0.6, 0.75)):\n",
        "        # Plot the performance\n",
        "        fig, ax = plt.subplots(figsize=(7, 5))\n",
        "        self.results.sort_values(by=metric, ascending=False).plot.bar(y=metric, ax=ax, rot=45, legend=False)\n",
        "        ax.set_ylim(ylim);\n",
        "        ax.set_title('Model Performance for Each Estimator', fontsize='x-large')\n",
        "        ax.set_xlabel('Estimator Type', fontsize='x-large')\n",
        "\n",
        "        if metric == 'score':\n",
        "            ax.set_ylabel('Max model accuracy', fontsize='x-large')\n",
        "        elif metric == 'computing_time':\n",
        "            ax.set_ylabel('Mean time to fit model (s)', fontsize='x-large')\n",
        "        else:\n",
        "            pass\n",
        "\n",
        "        fig.show();\n",
        "\n",
        "        return fig\n",
        "\n",
        "    def sentiment_performance(self, X, y, ylim=0.5):\n",
        "        # Get results\n",
        "        report = classification_report(y, self.predict(X), output_dict=True)\n",
        "        neg_results = list(report['0'].values())[:3]\n",
        "        neu_results = list(report['2'].values())[:3]\n",
        "        pos_results = list(report['4'].values())[:3]\n",
        "\n",
        "        # Set position of bar on X axis\n",
        "        barWidth = 0.25\n",
        "        x1 = np.arange(len(neg_results))\n",
        "        x2 = [x + barWidth for x in x1]\n",
        "        x3 = [x + barWidth for x in x2]\n",
        "\n",
        "        # Plot the performance\n",
        "        fig, ax = plt.subplots(figsize=(7, 5))\n",
        "\n",
        "        # Make the plot\n",
        "        ax.bar(x1, neg_results, color='indianred', width=barWidth, edgecolor='white', label='Negative')\n",
        "        ax.bar(x2, neu_results, color='sandybrown', width=barWidth, edgecolor='white', label='Neutral')\n",
        "        ax.bar(x3, pos_results, color='mediumseagreen', width=barWidth, edgecolor='white', label='Postiive')\n",
        "        ax.set_xticks(x2)\n",
        "        ax.set_xticklabels(('Precision', 'Recall', 'F1 Score'), fontsize='x-large')\n",
        "        ax.set_ylim(0, 1)\n",
        "        ax.set_title('Best Estimator Performance on Different Sentiments', fontsize='x-large')\n",
        "\n",
        "        ax.legend(bbox_to_anchor=(1.05, 1), loc=2, borderaxespad=0.)\n",
        "        fig.show();\n",
        "        \n",
        "        return report\n",
        "\n",
        "    def plot_roc(self, X_test, y_test):\n",
        "        y_score = self.predict_proba(X_test)\n",
        "\n",
        "        # Reshape y_test\n",
        "        ytest = []\n",
        "        for i in y_test:\n",
        "            if i == 0:\n",
        "                ytest.append([1, 0, 0])\n",
        "            elif i == 2:\n",
        "                ytest.append([0, 1, 0])\n",
        "            else:\n",
        "                ytest.append([0, 0, 1])\n",
        "        y_test = np.array(ytest)\n",
        "\n",
        "        # Compute ROC curve and ROC area for each class\n",
        "        fpr = dict()\n",
        "        tpr = dict()\n",
        "        roc_auc = dict()\n",
        "        for i in range(3):\n",
        "            fpr[i], tpr[i], _ = roc_curve(y_test[:, i], y_score[:, i])\n",
        "            roc_auc[i] = auc(fpr[i], tpr[i])\n",
        "\n",
        "        # Compute micro-average ROC curve and ROC area\n",
        "        fpr[\"micro\"], tpr[\"micro\"], _ = roc_curve(y_test.ravel(), y_score.ravel())\n",
        "        roc_auc[\"micro\"] = auc(fpr[\"micro\"], tpr[\"micro\"])\n",
        "\n",
        "        fig, ax = plt.subplots(figsize=(7, 7))\n",
        "        for i, title in enumerate(['Negative', 'Neutral', 'Positive']):\n",
        "            ax.plot(fpr[i], tpr[i], label=title + ' tweets ROC curve (area = %0.2f)' % roc_auc[i])\n",
        "        ax.plot([0, 1], [0, 1], color='black', lw=lw, linestyle='--')\n",
        "        ax.set_xlim([0.0, 1.0])\n",
        "        ax.set_ylim([0.0, 1.0])\n",
        "        ax.set_xlabel('False Positive Rate', fontsize='x-large')\n",
        "        ax.set_ylabel('True Positive Rate', fontsize='x-large')\n",
        "        ax.set_title('ROC Curve', fontsize='x-large')\n",
        "        ax.legend(loc=\"lower right\")\n",
        "        fig.show()\n",
        "\n",
        "        return fig"
      ],
      "execution_count": 0,
      "outputs": []
    },
    {
      "cell_type": "markdown",
      "metadata": {
        "id": "k5fnXiG8aiIR",
        "colab_type": "text"
      },
      "source": [
        "# Create and test model on full training data\n",
        "\n",
        "Let us now use our algorithm to train a model and test it."
      ]
    },
    {
      "cell_type": "code",
      "metadata": {
        "id": "qsH0VP_pW-OR",
        "colab_type": "code",
        "outputId": "5e5681d2-5b13-4092-bebe-314d363e4418",
        "colab": {
          "base_uri": "https://localhost:8080/",
          "height": 275
        }
      },
      "source": [
        "model = TwitterSentimentModel()\n",
        "model.fit(X_train, y_train, classifier='SGD')"
      ],
      "execution_count": 134,
      "outputs": [
        {
          "output_type": "stream",
          "text": [
            "Fitting 10 folds for each of 24 candidates, totalling 240 fits\n"
          ],
          "name": "stdout"
        },
        {
          "output_type": "stream",
          "text": [
            "[Parallel(n_jobs=-1)]: Using backend LokyBackend with 2 concurrent workers.\n",
            "[Parallel(n_jobs=-1)]: Done  46 tasks      | elapsed:    4.1s\n",
            "[Parallel(n_jobs=-1)]: Done 196 tasks      | elapsed:   20.4s\n",
            "[Parallel(n_jobs=-1)]: Done 240 out of 240 | elapsed:   26.3s finished\n"
          ],
          "name": "stderr"
        },
        {
          "output_type": "stream",
          "text": [
            "\n",
            "Best Model: 75.99% using {'bow__ngram_range': (1, 2), 'clf__estimator': SGDClassifier(alpha=0.0001, average=False, class_weight=None,\n",
            "              early_stopping=False, epsilon=0.1, eta0=0.0, fit_intercept=True,\n",
            "              l1_ratio=0.15, learning_rate='optimal', loss='modified_huber',\n",
            "              max_iter=1000, n_iter_no_change=5, n_jobs=-1,\n",
            "              penalty='elasticnet', power_t=0.5, random_state=637, shuffle=True,\n",
            "              tol=0.001, validation_fraction=0.1, verbose=0, warm_start=False), 'clf__estimator__loss': 'modified_huber', 'clf__estimator__penalty': 'elasticnet', 'tfidf__norm': 'l2'}\n",
            "\n",
            "\n"
          ],
          "name": "stdout"
        }
      ]
    },
    {
      "cell_type": "code",
      "metadata": {
        "id": "d_fgZrniTKx-",
        "colab_type": "code",
        "outputId": "bdde5271-e3ba-4265-98d5-bd6f3170fb3b",
        "colab": {
          "base_uri": "https://localhost:8080/",
          "height": 34
        }
      },
      "source": [
        "joblib.dump(model.grid.best_estimator_, 'trained_model.pkl')"
      ],
      "execution_count": 135,
      "outputs": [
        {
          "output_type": "execute_result",
          "data": {
            "text/plain": [
              "['trained_model.pkl']"
            ]
          },
          "metadata": {
            "tags": []
          },
          "execution_count": 135
        }
      ]
    },
    {
      "cell_type": "code",
      "metadata": {
        "id": "WTrBk5ecFw4N",
        "colab_type": "code",
        "outputId": "f7ddcc5e-1351-4cf9-e338-7cb883270493",
        "colab": {
          "base_uri": "https://localhost:8080/",
          "height": 51
        }
      },
      "source": [
        "acc = model.score(X_test_full, y_test_full), model.score(X_test_bal, y_test_bal) \n",
        "print('accuracy on original test set: {0:.2%}'.format(acc[0])) \n",
        "print('accuracy on balanced test set: {0:.2%}'.format(acc[1])) "
      ],
      "execution_count": 136,
      "outputs": [
        {
          "output_type": "stream",
          "text": [
            "accuracy on original test set: 77.94%\n",
            "accuracy on balanced test set: 70.18%\n"
          ],
          "name": "stdout"
        }
      ]
    },
    {
      "cell_type": "code",
      "metadata": {
        "id": "8liysiBi1YGf",
        "colab_type": "code",
        "outputId": "c3276908-2f66-4d32-b920-da2a8848795f",
        "colab": {
          "base_uri": "https://localhost:8080/",
          "height": 665
        }
      },
      "source": [
        "model.sentiment_performance(X_test_full, y_test_full), model.sentiment_performance(X_test_bal, y_test_bal);"
      ],
      "execution_count": 108,
      "outputs": [
        {
          "output_type": "display_data",
          "data": {
            "image/png": "[encoded data removed]",
            "text/plain": [
              "<Figure size 504x360 with 1 Axes>"
            ]
          },
          "metadata": {
            "tags": [],
            "needs_background": "light"
          }
        },
        {
          "output_type": "display_data",
          "data": {
            "image/png": "[encoded data removed]",
            "text/plain": [
              "<Figure size 504x360 with 1 Axes>"
            ]
          },
          "metadata": {
            "tags": [],
            "needs_background": "light"
          }
        }
      ]
    },
    {
      "cell_type": "code",
      "metadata": {
        "id": "_1skobezDS2r",
        "colab_type": "code",
        "colab": {
          "base_uri": "https://localhost:8080/",
          "height": 463
        },
        "outputId": "7d3dc644-eb61-4714-fe73-3ca389c1617c"
      },
      "source": [
        "fig = model.plot_roc(X_test, y_test)"
      ],
      "execution_count": 137,
      "outputs": [
        {
          "output_type": "display_data",
          "data": {
            "image/png": "[encoded data removed]",
            "text/plain": [
              "<Figure size 504x504 with 1 Axes>"
            ]
          },
          "metadata": {
            "tags": [],
            "needs_background": "light"
          }
        }
      ]
    },
    {
      "cell_type": "code",
      "metadata": {
        "id": "dqFVfZ3HszBY",
        "colab_type": "code",
        "outputId": "54e79661-b4f7-4d6a-95da-79e53b40223b",
        "colab": {
          "base_uri": "https://localhost:8080/",
          "height": 425
        }
      },
      "source": [
        "print('\\033[1m\\tClassification report on the Original Test Set\\033[0m')\n",
        "model.classification_report(X_test_full, y_test_full)\n",
        "\n",
        "print('\\n\\n\\033[1m\\tClassification report on the Balanced Test Set\\033[0m')\n",
        "model.classification_report(X_test_bal, y_test_bal);"
      ],
      "execution_count": 67,
      "outputs": [
        {
          "output_type": "stream",
          "text": [
            "\u001b[1m\tClassification report on the Original Test Set\u001b[0m\n",
            "              precision    recall  f1-score   support\n",
            "\n",
            "           0       0.67      0.65      0.66       104\n",
            "           2       0.83      0.87      0.85       334\n",
            "           4       0.71      0.63      0.66       115\n",
            "\n",
            "    accuracy                           0.78       553\n",
            "   macro avg       0.74      0.72      0.73       553\n",
            "weighted avg       0.78      0.78      0.78       553\n",
            "\n",
            "\n",
            "\n",
            "\u001b[1m\tClassification report on the Balanced Test Set\u001b[0m\n",
            "              precision    recall  f1-score   support\n",
            "\n",
            "           0       0.81      0.67      0.73       114\n",
            "           2       0.60      0.83      0.70       114\n",
            "           4       0.77      0.61      0.68       114\n",
            "\n",
            "    accuracy                           0.70       342\n",
            "   macro avg       0.73      0.70      0.70       342\n",
            "weighted avg       0.73      0.70      0.70       342\n",
            "\n"
          ],
          "name": "stdout"
        }
      ]
    },
    {
      "cell_type": "code",
      "metadata": {
        "id": "Z9njgMa_8CvW",
        "colab_type": "code",
        "outputId": "5a5844ee-bf5f-4c09-fc5c-0893f0b0fb9a",
        "colab": {
          "base_uri": "https://localhost:8080/",
          "height": 717
        }
      },
      "source": [
        "model.estimator_performance('score', ylim=(0.6, 0.8)), model.estimator_performance('computing_time', ylim=(0, 4));"
      ],
      "execution_count": 16,
      "outputs": [
        {
          "output_type": "display_data",
          "data": {
            "image/png": "[encoded data removed]",
            "text/plain": [
              "<Figure size 504x360 with 1 Axes>"
            ]
          },
          "metadata": {
            "tags": [],
            "needs_background": "light"
          }
        },
        {
          "output_type": "display_data",
          "data": {
            "image/png": "[encoded data removed]",
            "text/plain": [
              "<Figure size 504x360 with 1 Axes>"
            ]
          },
          "metadata": {
            "tags": [],
            "needs_background": "light"
          }
        }
      ]
    },
    {
      "cell_type": "code",
      "metadata": {
        "id": "BZbSo4BD2Z_t",
        "colab_type": "code",
        "outputId": "3881bfec-ff72-4b88-81c0-1933ec450a49",
        "colab": {
          "base_uri": "https://localhost:8080/",
          "height": 111
        }
      },
      "source": [
        "model.results"
      ],
      "execution_count": 17,
      "outputs": [
        {
          "output_type": "execute_result",
          "data": {
            "text/html": [
              "<div>\n",
              "<style scoped>\n",
              "    .dataframe tbody tr th:only-of-type {\n",
              "        vertical-align: middle;\n",
              "    }\n",
              "\n",
              "    .dataframe tbody tr th {\n",
              "        vertical-align: top;\n",
              "    }\n",
              "\n",
              "    .dataframe thead th {\n",
              "        text-align: right;\n",
              "    }\n",
              "</style>\n",
              "<table border=\"1\" class=\"dataframe\">\n",
              "  <thead>\n",
              "    <tr style=\"text-align: right;\">\n",
              "      <th></th>\n",
              "      <th>score</th>\n",
              "      <th>ngram_range</th>\n",
              "      <th>tfidf__norm</th>\n",
              "      <th>computing_time</th>\n",
              "      <th>estimator_obj</th>\n",
              "    </tr>\n",
              "    <tr>\n",
              "      <th>Estimator</th>\n",
              "      <th></th>\n",
              "      <th></th>\n",
              "      <th></th>\n",
              "      <th></th>\n",
              "      <th></th>\n",
              "    </tr>\n",
              "  </thead>\n",
              "  <tbody>\n",
              "    <tr>\n",
              "      <th>SGD</th>\n",
              "      <td>0.759862</td>\n",
              "      <td>(1, 2)</td>\n",
              "      <td>l2</td>\n",
              "      <td>0.239025</td>\n",
              "      <td>SGDClassifier(alpha=0.0001, average=False, cla...</td>\n",
              "    </tr>\n",
              "  </tbody>\n",
              "</table>\n",
              "</div>"
            ],
            "text/plain": [
              "              score  ...                                      estimator_obj\n",
              "Estimator            ...                                                   \n",
              "SGD        0.759862  ...  SGDClassifier(alpha=0.0001, average=False, cla...\n",
              "\n",
              "[1 rows x 5 columns]"
            ]
          },
          "metadata": {
            "tags": []
          },
          "execution_count": 17
        }
      ]
    },
    {
      "cell_type": "code",
      "metadata": {
        "id": "s4YQhW4Dsavr",
        "colab_type": "code",
        "outputId": "211c9bff-c8bf-4272-ac42-eb931bfcb17d",
        "colab": {
          "base_uri": "https://localhost:8080/",
          "height": 34
        }
      },
      "source": [
        "model.grid.predict_proba(['I love the world'])"
      ],
      "execution_count": 55,
      "outputs": [
        {
          "output_type": "execute_result",
          "data": {
            "text/plain": [
              "array([[0., 0., 1.]])"
            ]
          },
          "metadata": {
            "tags": []
          },
          "execution_count": 55
        }
      ]
    },
    {
      "cell_type": "code",
      "metadata": {
        "id": "9mdWQYGrsf6H",
        "colab_type": "code",
        "outputId": "480d6479-d78e-4077-e8b5-0bb9b485d836",
        "colab": {
          "base_uri": "https://localhost:8080/",
          "height": 34
        }
      },
      "source": [
        "model.grid.predict_proba(['I am indifferent about the world'])"
      ],
      "execution_count": 56,
      "outputs": [
        {
          "output_type": "execute_result",
          "data": {
            "text/plain": [
              "array([[0.05436515, 0.65547777, 0.29015708]])"
            ]
          },
          "metadata": {
            "tags": []
          },
          "execution_count": 56
        }
      ]
    },
    {
      "cell_type": "code",
      "metadata": {
        "id": "Ejj18rNJsgal",
        "colab_type": "code",
        "outputId": "4294acb3-2604-42b9-de62-b30345fd80ff",
        "colab": {
          "base_uri": "https://localhost:8080/",
          "height": 34
        }
      },
      "source": [
        "model.grid.predict_proba(['I hate the world'])"
      ],
      "execution_count": 57,
      "outputs": [
        {
          "output_type": "execute_result",
          "data": {
            "text/plain": [
              "array([[1., 0., 0.]])"
            ]
          },
          "metadata": {
            "tags": []
          },
          "execution_count": 57
        }
      ]
    },
    {
      "cell_type": "markdown",
      "metadata": {
        "id": "pprkSt3A5lDA",
        "colab_type": "text"
      },
      "source": [
        "**Results on full (unbalanced) validation set**\n",
        "\n",
        "| | precision   | recall  |f1-score   |support|\n",
        "|---|-----|-----|-----|----|\n",
        "|0  |0.67 |0.65 |0.66 |104 |\n",
        "|2  |0.83 |0.87 |0.85 |334 |\n",
        "|4  |0.71 |0.63 |0.66 |115 |\n",
        "| | | | | |\n",
        "|accuracy  |||0.78 |553 |\n",
        "|macro avg   |0.74 |0.72 | 0.73 |553|\n",
        "|weighted avg|0.78 |0.78 | 0.78 |553|\n",
        "\n"
      ]
    },
    {
      "cell_type": "markdown",
      "metadata": {
        "id": "kXYFxxfEy2IY",
        "colab_type": "text"
      },
      "source": [
        "# Get Test Set\n",
        "\n",
        "Now that we have a workable model, let us scrape new, unlabeled tweets from Twitter and glean some aggregated sentiment information about various topics."
      ]
    },
    {
      "cell_type": "markdown",
      "metadata": {
        "id": "qRF3Bl2Fz203",
        "colab_type": "text"
      },
      "source": [
        "First, we will use the Twitter Developers login credentials to authenticate this program. This will allow us to fetch tweets using Twitter's API."
      ]
    },
    {
      "cell_type": "code",
      "metadata": {
        "id": "0bPEOCpvxQ4f",
        "colab_type": "code",
        "outputId": "5592f108-dd99-425d-d567-7cf2f8fd6ba5",
        "colab": {
          "base_uri": "https://localhost:8080/",
          "height": 34
        }
      },
      "source": [
        "# Developer keys\n",
        "consumer_key = 'WKZJjQRJBJE6ZXAy8tiBotVV0'\n",
        "consumer_key_secret = 'dcy3B146XiVTYzcgYO3kqjMS3xiVfqYdUNmRAGftThsiwek36S'\n",
        "\n",
        "# Secret token (not used anywhere)\n",
        "access_token_key = '2954379412-yKnvAzEL0KTQUxZPMHQHgwTC7WNbPB7w4AOMrPO'\n",
        "access_token_key_secret = '9dwQjP3WqnvIclgcnilIqTz27vdRPQgSPfOKKCA7Y4mot'\n",
        "\n",
        "# Initialize api instance\n",
        "auth = tweepy.OAuthHandler(consumer_key, consumer_key_secret)\n",
        "auth.set_access_token(access_token_key, access_token_key_secret)\n",
        "twitter_api = tweepy.API(auth)\n",
        "print('Authorization successful:', twitter_api != None)"
      ],
      "execution_count": 0,
      "outputs": [
        {
          "output_type": "stream",
          "text": [
            "Authorization successful: True\n"
          ],
          "name": "stdout"
        }
      ]
    },
    {
      "cell_type": "markdown",
      "metadata": {
        "id": "2m-Kz6p1z6yD",
        "colab_type": "text"
      },
      "source": [
        "Next, we will create a function that will gather tweets relating to a specific keyword. The function will take a keyword and the number of tweets to fetch as inputs. We will use this function later to build test sets."
      ]
    },
    {
      "cell_type": "code",
      "metadata": {
        "id": "1FWTiwwnxc0W",
        "colab_type": "code",
        "colab": {}
      },
      "source": [
        "def getTweets(search_term, num_tweets = 10000, rts=False, date=None):\n",
        "    if not rts:\n",
        "        search_term += '-filter:retweets'       # Exclude retweets from search\n",
        "    if date != None:                            # Get tweets at or before a certain date\n",
        "        fetched_tweets = twitter_api.search(q=search_term, count=num_tweets, lang='en', until=date)\n",
        "        if not fetched_tweets:                  # If certain date was more than a week ago\n",
        "            fetched_tweets = twitter_api.search(q=search_term, count=num_tweets, lang='en')\n",
        "    else:                                       # Get most recent tweets\n",
        "        fetched_tweets = twitter_api.search(q=search_term, count=num_tweets, lang='en')\n",
        "    print(\"Fetched {0} tweets about {1}\".format(num_tweets, search_term))\n",
        "    return [status.text for status in fetched_tweets]"
      ],
      "execution_count": 0,
      "outputs": []
    },
    {
      "cell_type": "markdown",
      "metadata": {
        "id": "bleCM2s00yvR",
        "colab_type": "text"
      },
      "source": [
        "Let's test this function to see the 10,000 most recent tweets pertaining to the search term `coronavirus`."
      ]
    },
    {
      "cell_type": "code",
      "metadata": {
        "id": "rhc94BxaFMhg",
        "colab_type": "code",
        "outputId": "5051af5d-12da-4aeb-dc3b-4fba07104ad4",
        "colab": {
          "base_uri": "https://localhost:8080/",
          "height": 238
        }
      },
      "source": [
        "# Make query\n",
        "search_term = 'coronavirus'\n",
        "num_tweets = 10000\n",
        "\n",
        "testTweets = getTweets(search_term, num_tweets)\n",
        "for tweet in testTweets[:5]:\n",
        "    print('\\n', tweet)"
      ],
      "execution_count": 0,
      "outputs": [
        {
          "output_type": "stream",
          "text": [
            "Fetched 10000 tweets about coronavirus-filter:retweets\n",
            "\n",
            " Look out for Cook County Jail \n",
            "\n",
            "78% of the prisoners at Marion Correctional have tested positive for coronavirus an… https://t.co/8011VYQ3uw\n",
            "\n",
            " @a_swine Apparently unlike you I watched Trump's coronavirus today!\n",
            "\n",
            " @drharshvardhan @CovidIndiaSeva @PMOIndia @PIB_India @WHOSEARO @BJP4India @narendramodi @MoHFW_INDIA @MEAIndia… https://t.co/0xLZMV2ggV\n",
            "\n",
            " Drug championed by Trump for coronavirus shows no benefit, possible harm in study awaiting validation https://t.co/hVaeJYUlOd\n",
            "\n",
            " CDC’s failed coronavirus tests were tainted with coronavirus, feds confirm | Ars Technica https://t.co/k8qJerp0pJ\n"
          ],
          "name": "stdout"
        }
      ]
    },
    {
      "cell_type": "code",
      "metadata": {
        "id": "LEe1Td-8StNA",
        "colab_type": "code",
        "outputId": "ae28149e-bc8a-42e0-da52-c3a48df8a68b",
        "colab": {
          "base_uri": "https://localhost:8080/",
          "height": 136
        }
      },
      "source": [
        "for tweet in testTweets[:5]:\n",
        "    print(model.grid.predict_proba([tweet]))\n",
        "\n",
        "print('\\n(scale from 0 - 1) Aggregated sentiment score:', model.predict(testTweets).mean() / 4)"
      ],
      "execution_count": 0,
      "outputs": [
        {
          "output_type": "stream",
          "text": [
            "[[0.09020422 0.8537806  0.05601518]]\n",
            "[[0.03180655 0.468825   0.49936846]]\n",
            "[[0.18107608 0.6510909  0.16783302]]\n",
            "[[0.19612186 0.6482476  0.15563054]]\n",
            "[[0.52703652 0.47296348 0.        ]]\n",
            "\n",
            "(scale from 0 - 1) Aggregated sentiment score: 0.485\n"
          ],
          "name": "stdout"
        }
      ]
    },
    {
      "cell_type": "code",
      "metadata": {
        "id": "Dbga00h8UoDU",
        "colab_type": "code",
        "outputId": "20370db7-2d88-4928-e5da-5e04b9b8de94",
        "colab": {
          "base_uri": "https://localhost:8080/",
          "height": 136
        }
      },
      "source": [
        "for tweet in testTweets[:5]:\n",
        "    print(model1.grid.predict_proba([tweet]))\n",
        "    \n",
        "print('\\n(scale from 0 - 1) Aggregated sentiment score:', model1.predict(testTweets).mean() / 4)"
      ],
      "execution_count": 0,
      "outputs": [
        {
          "output_type": "stream",
          "text": [
            "[[0.27403289 0.28122501 0.44474209]]\n",
            "[[0.46565428 0.         0.53434572]]\n",
            "[[0.19778372 0.37846472 0.42375156]]\n",
            "[[0.35927169 0.28737922 0.35334908]]\n",
            "[[0.61158647 0.29432681 0.09408672]]\n",
            "\n",
            "(scale from 0 - 1) Aggregated sentiment score: 0.54\n"
          ],
          "name": "stdout"
        }
      ]
    },
    {
      "cell_type": "markdown",
      "metadata": {
        "id": "QXJicsjsuwMO",
        "colab_type": "text"
      },
      "source": [
        "# (in testing. not ready to be added yet)"
      ]
    },
    {
      "cell_type": "markdown",
      "metadata": {
        "id": "7a8j3djvw4ya",
        "colab_type": "text"
      },
      "source": [
        "## Spellcheck"
      ]
    },
    {
      "cell_type": "code",
      "metadata": {
        "colab_type": "code",
        "outputId": "daa67b68-6d22-4eb0-ae2a-d2ede6a7ea38",
        "id": "HypreOHrscu8",
        "colab": {
          "base_uri": "https://localhost:8080/",
          "height": 187
        }
      },
      "source": [
        "!pip install autocorrect"
      ],
      "execution_count": 0,
      "outputs": [
        {
          "output_type": "stream",
          "text": [
            "Collecting autocorrect\n",
            "\u001b[?25l  Downloading https://files.pythonhosted.org/packages/a9/b0/a1d628fa192e8ebf124b4cebc2a42b4e3aa65b8052fdf4888e04fadf3e8d/autocorrect-1.1.0.tar.gz (1.8MB)\n",
            "\r\u001b[K     |▏                               | 10kB 15.1MB/s eta 0:00:01\r\u001b[K     |▍                               | 20kB 1.8MB/s eta 0:00:02\r\u001b[K     |▌                               | 30kB 2.1MB/s eta 0:00:01\r\u001b[K     |▊                               | 40kB 1.7MB/s eta 0:00:02\r\u001b[K     |█                               | 51kB 1.8MB/s eta 0:00:01\r\u001b[K     |█                               | 61kB 2.2MB/s eta 0:00:01\r\u001b[K     |█▎                              | 71kB 2.4MB/s eta 0:00:01\r\u001b[K     |█▌                              | 81kB 2.6MB/s eta 0:00:01\r\u001b[K     |█▋                              | 92kB 2.9MB/s eta 0:00:01\r\u001b[K     |█▉                              | 102kB 2.8MB/s eta 0:00:01\r\u001b[K     |██                              | 112kB 2.8MB/s eta 0:00:01\r\u001b[K     |██▏                             | 122kB 2.8MB/s eta 0:00:01\r\u001b[K     |██▍                             | 133kB 2.8MB/s eta 0:00:01\r\u001b[K     |██▌                             | 143kB 2.8MB/s eta 0:00:01\r\u001b[K     |██▊                             | 153kB 2.8MB/s eta 0:00:01\r\u001b[K     |███                             | 163kB 2.8MB/s eta 0:00:01\r\u001b[K     |███                             | 174kB 2.8MB/s eta 0:00:01\r\u001b[K     |███▎                            | 184kB 2.8MB/s eta 0:00:01\r\u001b[K     |███▍                            | 194kB 2.8MB/s eta 0:00:01\r\u001b[K     |███▋                            | 204kB 2.8MB/s eta 0:00:01\r\u001b[K     |███▉                            | 215kB 2.8MB/s eta 0:00:01\r\u001b[K     |████                            | 225kB 2.8MB/s eta 0:00:01\r\u001b[K     |████▏                           | 235kB 2.8MB/s eta 0:00:01\r\u001b[K     |████▍                           | 245kB 2.8MB/s eta 0:00:01\r\u001b[K     |████▌                           | 256kB 2.8MB/s eta 0:00:01\r\u001b[K     |████▊                           | 266kB 2.8MB/s eta 0:00:01\r\u001b[K     |████▉                           | 276kB 2.8MB/s eta 0:00:01\r\u001b[K     |█████                           | 286kB 2.8MB/s eta 0:00:01\r\u001b[K     |█████▎                          | 296kB 2.8MB/s eta 0:00:01\r\u001b[K     |█████▍                          | 307kB 2.8MB/s eta 0:00:01\r\u001b[K     |█████▋                          | 317kB 2.8MB/s eta 0:00:01\r\u001b[K     |█████▉                          | 327kB 2.8MB/s eta 0:00:01\r\u001b[K     |██████                          | 337kB 2.8MB/s eta 0:00:01\r\u001b[K     |██████▏                         | 348kB 2.8MB/s eta 0:00:01\r\u001b[K     |██████▍                         | 358kB 2.8MB/s eta 0:00:01\r\u001b[K     |██████▌                         | 368kB 2.8MB/s eta 0:00:01\r\u001b[K     |██████▊                         | 378kB 2.8MB/s eta 0:00:01\r\u001b[K     |██████▉                         | 389kB 2.8MB/s eta 0:00:01\r\u001b[K     |███████                         | 399kB 2.8MB/s eta 0:00:01\r\u001b[K     |███████▎                        | 409kB 2.8MB/s eta 0:00:01\r\u001b[K     |███████▍                        | 419kB 2.8MB/s eta 0:00:01\r\u001b[K     |███████▋                        | 430kB 2.8MB/s eta 0:00:01\r\u001b[K     |███████▉                        | 440kB 2.8MB/s eta 0:00:01\r\u001b[K     |████████                        | 450kB 2.8MB/s eta 0:00:01\r\u001b[K     |████████▏                       | 460kB 2.8MB/s eta 0:00:01\r\u001b[K     |████████▎                       | 471kB 2.8MB/s eta 0:00:01\r\u001b[K     |████████▌                       | 481kB 2.8MB/s eta 0:00:01\r\u001b[K     |████████▊                       | 491kB 2.8MB/s eta 0:00:01\r\u001b[K     |████████▉                       | 501kB 2.8MB/s eta 0:00:01\r\u001b[K     |█████████                       | 512kB 2.8MB/s eta 0:00:01\r\u001b[K     |█████████▎                      | 522kB 2.8MB/s eta 0:00:01\r\u001b[K     |█████████▍                      | 532kB 2.8MB/s eta 0:00:01\r\u001b[K     |█████████▋                      | 542kB 2.8MB/s eta 0:00:01\r\u001b[K     |█████████▊                      | 552kB 2.8MB/s eta 0:00:01\r\u001b[K     |██████████                      | 563kB 2.8MB/s eta 0:00:01\r\u001b[K     |██████████▏                     | 573kB 2.8MB/s eta 0:00:01\r\u001b[K     |██████████▎                     | 583kB 2.8MB/s eta 0:00:01\r\u001b[K     |██████████▌                     | 593kB 2.8MB/s eta 0:00:01\r\u001b[K     |██████████▊                     | 604kB 2.8MB/s eta 0:00:01\r\u001b[K     |██████████▉                     | 614kB 2.8MB/s eta 0:00:01\r\u001b[K     |███████████                     | 624kB 2.8MB/s eta 0:00:01\r\u001b[K     |███████████▏                    | 634kB 2.8MB/s eta 0:00:01\r\u001b[K     |███████████▍                    | 645kB 2.8MB/s eta 0:00:01\r\u001b[K     |███████████▋                    | 655kB 2.8MB/s eta 0:00:01\r\u001b[K     |███████████▊                    | 665kB 2.8MB/s eta 0:00:01\r\u001b[K     |████████████                    | 675kB 2.8MB/s eta 0:00:01\r\u001b[K     |████████████▏                   | 686kB 2.8MB/s eta 0:00:01\r\u001b[K     |████████████▎                   | 696kB 2.8MB/s eta 0:00:01\r\u001b[K     |████████████▌                   | 706kB 2.8MB/s eta 0:00:01\r\u001b[K     |████████████▊                   | 716kB 2.8MB/s eta 0:00:01\r\u001b[K     |████████████▉                   | 727kB 2.8MB/s eta 0:00:01\r\u001b[K     |█████████████                   | 737kB 2.8MB/s eta 0:00:01\r\u001b[K     |█████████████▏                  | 747kB 2.8MB/s eta 0:00:01\r\u001b[K     |█████████████▍                  | 757kB 2.8MB/s eta 0:00:01\r\u001b[K     |█████████████▋                  | 768kB 2.8MB/s eta 0:00:01\r\u001b[K     |█████████████▊                  | 778kB 2.8MB/s eta 0:00:01\r\u001b[K     |██████████████                  | 788kB 2.8MB/s eta 0:00:01\r\u001b[K     |██████████████▏                 | 798kB 2.8MB/s eta 0:00:01\r\u001b[K     |██████████████▎                 | 808kB 2.8MB/s eta 0:00:01\r\u001b[K     |██████████████▌                 | 819kB 2.8MB/s eta 0:00:01\r\u001b[K     |██████████████▋                 | 829kB 2.8MB/s eta 0:00:01\r\u001b[K     |██████████████▉                 | 839kB 2.8MB/s eta 0:00:01\r\u001b[K     |███████████████                 | 849kB 2.8MB/s eta 0:00:01\r\u001b[K     |███████████████▏                | 860kB 2.8MB/s eta 0:00:01\r\u001b[K     |███████████████▍                | 870kB 2.8MB/s eta 0:00:01\r\u001b[K     |███████████████▋                | 880kB 2.8MB/s eta 0:00:01\r\u001b[K     |███████████████▊                | 890kB 2.8MB/s eta 0:00:01\r\u001b[K     |████████████████                | 901kB 2.8MB/s eta 0:00:01\r\u001b[K     |████████████████                | 911kB 2.8MB/s eta 0:00:01\r\u001b[K     |████████████████▎               | 921kB 2.8MB/s eta 0:00:01\r\u001b[K     |████████████████▌               | 931kB 2.8MB/s eta 0:00:01\r\u001b[K     |████████████████▋               | 942kB 2.8MB/s eta 0:00:01\r\u001b[K     |████████████████▉               | 952kB 2.8MB/s eta 0:00:01\r\u001b[K     |█████████████████               | 962kB 2.8MB/s eta 0:00:01\r\u001b[K     |█████████████████▏              | 972kB 2.8MB/s eta 0:00:01\r\u001b[K     |█████████████████▍              | 983kB 2.8MB/s eta 0:00:01\r\u001b[K     |█████████████████▌              | 993kB 2.8MB/s eta 0:00:01\r\u001b[K     |█████████████████▊              | 1.0MB 2.8MB/s eta 0:00:01\r\u001b[K     |██████████████████              | 1.0MB 2.8MB/s eta 0:00:01\r\u001b[K     |██████████████████              | 1.0MB 2.8MB/s eta 0:00:01\r\u001b[K     |██████████████████▎             | 1.0MB 2.8MB/s eta 0:00:01\r\u001b[K     |██████████████████▌             | 1.0MB 2.8MB/s eta 0:00:01\r\u001b[K     |██████████████████▋             | 1.1MB 2.8MB/s eta 0:00:01\r\u001b[K     |██████████████████▉             | 1.1MB 2.8MB/s eta 0:00:01\r\u001b[K     |███████████████████             | 1.1MB 2.8MB/s eta 0:00:01\r\u001b[K     |███████████████████▏            | 1.1MB 2.8MB/s eta 0:00:01\r\u001b[K     |███████████████████▍            | 1.1MB 2.8MB/s eta 0:00:01\r\u001b[K     |███████████████████▌            | 1.1MB 2.8MB/s eta 0:00:01\r\u001b[K     |███████████████████▊            | 1.1MB 2.8MB/s eta 0:00:01\r\u001b[K     |████████████████████            | 1.1MB 2.8MB/s eta 0:00:01\r\u001b[K     |████████████████████            | 1.1MB 2.8MB/s eta 0:00:01\r\u001b[K     |████████████████████▎           | 1.1MB 2.8MB/s eta 0:00:01\r\u001b[K     |████████████████████▌           | 1.2MB 2.8MB/s eta 0:00:01\r\u001b[K     |████████████████████▋           | 1.2MB 2.8MB/s eta 0:00:01\r\u001b[K     |████████████████████▉           | 1.2MB 2.8MB/s eta 0:00:01\r\u001b[K     |█████████████████████           | 1.2MB 2.8MB/s eta 0:00:01\r\u001b[K     |█████████████████████▏          | 1.2MB 2.8MB/s eta 0:00:01\r\u001b[K     |█████████████████████▍          | 1.2MB 2.8MB/s eta 0:00:01\r\u001b[K     |█████████████████████▌          | 1.2MB 2.8MB/s eta 0:00:01\r\u001b[K     |█████████████████████▊          | 1.2MB 2.8MB/s eta 0:00:01\r\u001b[K     |██████████████████████          | 1.2MB 2.8MB/s eta 0:00:01\r\u001b[K     |██████████████████████          | 1.2MB 2.8MB/s eta 0:00:01\r\u001b[K     |██████████████████████▎         | 1.3MB 2.8MB/s eta 0:00:01\r\u001b[K     |██████████████████████▍         | 1.3MB 2.8MB/s eta 0:00:01\r\u001b[K     |██████████████████████▋         | 1.3MB 2.8MB/s eta 0:00:01\r\u001b[K     |██████████████████████▉         | 1.3MB 2.8MB/s eta 0:00:01\r\u001b[K     |███████████████████████         | 1.3MB 2.8MB/s eta 0:00:01\r\u001b[K     |███████████████████████▏        | 1.3MB 2.8MB/s eta 0:00:01\r\u001b[K     |███████████████████████▍        | 1.3MB 2.8MB/s eta 0:00:01\r\u001b[K     |███████████████████████▌        | 1.3MB 2.8MB/s eta 0:00:01\r\u001b[K     |███████████████████████▊        | 1.3MB 2.8MB/s eta 0:00:01\r\u001b[K     |███████████████████████▉        | 1.4MB 2.8MB/s eta 0:00:01\r\u001b[K     |████████████████████████        | 1.4MB 2.8MB/s eta 0:00:01\r\u001b[K     |████████████████████████▎       | 1.4MB 2.8MB/s eta 0:00:01\r\u001b[K     |████████████████████████▍       | 1.4MB 2.8MB/s eta 0:00:01\r\u001b[K     |████████████████████████▋       | 1.4MB 2.8MB/s eta 0:00:01\r\u001b[K     |████████████████████████▉       | 1.4MB 2.8MB/s eta 0:00:01\r\u001b[K     |█████████████████████████       | 1.4MB 2.8MB/s eta 0:00:01\r\u001b[K     |█████████████████████████▏      | 1.4MB 2.8MB/s eta 0:00:01\r\u001b[K     |█████████████████████████▍      | 1.4MB 2.8MB/s eta 0:00:01\r\u001b[K     |█████████████████████████▌      | 1.4MB 2.8MB/s eta 0:00:01\r\u001b[K     |█████████████████████████▊      | 1.5MB 2.8MB/s eta 0:00:01\r\u001b[K     |█████████████████████████▉      | 1.5MB 2.8MB/s eta 0:00:01\r\u001b[K     |██████████████████████████      | 1.5MB 2.8MB/s eta 0:00:01\r\u001b[K     |██████████████████████████▎     | 1.5MB 2.8MB/s eta 0:00:01\r\u001b[K     |██████████████████████████▍     | 1.5MB 2.8MB/s eta 0:00:01\r\u001b[K     |██████████████████████████▋     | 1.5MB 2.8MB/s eta 0:00:01\r\u001b[K     |██████████████████████████▉     | 1.5MB 2.8MB/s eta 0:00:01\r\u001b[K     |███████████████████████████     | 1.5MB 2.8MB/s eta 0:00:01\r\u001b[K     |███████████████████████████▏    | 1.5MB 2.8MB/s eta 0:00:01\r\u001b[K     |███████████████████████████▎    | 1.5MB 2.8MB/s eta 0:00:01\r\u001b[K     |███████████████████████████▌    | 1.6MB 2.8MB/s eta 0:00:01\r\u001b[K     |███████████████████████████▊    | 1.6MB 2.8MB/s eta 0:00:01\r\u001b[K     |███████████████████████████▉    | 1.6MB 2.8MB/s eta 0:00:01\r\u001b[K     |████████████████████████████    | 1.6MB 2.8MB/s eta 0:00:01\r\u001b[K     |████████████████████████████▎   | 1.6MB 2.8MB/s eta 0:00:01\r\u001b[K     |████████████████████████████▍   | 1.6MB 2.8MB/s eta 0:00:01\r\u001b[K     |████████████████████████████▋   | 1.6MB 2.8MB/s eta 0:00:01\r\u001b[K     |████████████████████████████▊   | 1.6MB 2.8MB/s eta 0:00:01\r\u001b[K     |█████████████████████████████   | 1.6MB 2.8MB/s eta 0:00:01\r\u001b[K     |█████████████████████████████▏  | 1.6MB 2.8MB/s eta 0:00:01\r\u001b[K     |█████████████████████████████▎  | 1.7MB 2.8MB/s eta 0:00:01\r\u001b[K     |█████████████████████████████▌  | 1.7MB 2.8MB/s eta 0:00:01\r\u001b[K     |█████████████████████████████▊  | 1.7MB 2.8MB/s eta 0:00:01\r\u001b[K     |█████████████████████████████▉  | 1.7MB 2.8MB/s eta 0:00:01\r\u001b[K     |██████████████████████████████  | 1.7MB 2.8MB/s eta 0:00:01\r\u001b[K     |██████████████████████████████▏ | 1.7MB 2.8MB/s eta 0:00:01\r\u001b[K     |██████████████████████████████▍ | 1.7MB 2.8MB/s eta 0:00:01\r\u001b[K     |██████████████████████████████▋ | 1.7MB 2.8MB/s eta 0:00:01\r\u001b[K     |██████████████████████████████▊ | 1.7MB 2.8MB/s eta 0:00:01\r\u001b[K     |███████████████████████████████ | 1.8MB 2.8MB/s eta 0:00:01\r\u001b[K     |███████████████████████████████▏| 1.8MB 2.8MB/s eta 0:00:01\r\u001b[K     |███████████████████████████████▎| 1.8MB 2.8MB/s eta 0:00:01\r\u001b[K     |███████████████████████████████▌| 1.8MB 2.8MB/s eta 0:00:01\r\u001b[K     |███████████████████████████████▊| 1.8MB 2.8MB/s eta 0:00:01\r\u001b[K     |███████████████████████████████▉| 1.8MB 2.8MB/s eta 0:00:01\r\u001b[K     |████████████████████████████████| 1.8MB 2.8MB/s \n",
            "\u001b[?25hBuilding wheels for collected packages: autocorrect\n",
            "  Building wheel for autocorrect (setup.py) ... \u001b[?25l\u001b[?25hdone\n",
            "  Created wheel for autocorrect: filename=autocorrect-1.1.0-cp36-none-any.whl size=1810772 sha256=66cd76a902f81430da5aee25848035136b2f5606bf7ca4d9e62aae13cfbb2d9e\n",
            "  Stored in directory: /root/.cache/pip/wheels/78/7f/b1/527522820ae623df6a2dbe14f778d23adaea4bebe43f7ebcfe\n",
            "Successfully built autocorrect\n",
            "Installing collected packages: autocorrect\n",
            "Successfully installed autocorrect-1.1.0\n"
          ],
          "name": "stdout"
        }
      ]
    },
    {
      "cell_type": "code",
      "metadata": {
        "colab_type": "code",
        "id": "I7a1HVzmscBe",
        "colab": {}
      },
      "source": [
        "from autocorrect import Speller"
      ],
      "execution_count": 0,
      "outputs": []
    },
    {
      "cell_type": "code",
      "metadata": {
        "id": "hk7y0dLwsxyv",
        "colab_type": "code",
        "outputId": "cf0c9620-e7b9-4c7c-c36b-e607d6ed34df",
        "colab": {
          "base_uri": "https://localhost:8080/",
          "height": 34
        }
      },
      "source": [
        "spell = Speller(lang='en')\n",
        "spell('trmp'), spell('hello')"
      ],
      "execution_count": 0,
      "outputs": [
        {
          "output_type": "execute_result",
          "data": {
            "text/plain": [
              "('trap', 'hello')"
            ]
          },
          "metadata": {
            "tags": []
          },
          "execution_count": 25
        }
      ]
    },
    {
      "cell_type": "code",
      "metadata": {
        "id": "eiS78cr7tSt_",
        "colab_type": "code",
        "outputId": "7d15bff3-1363-4cd2-ef3d-874829aa006c",
        "colab": {
          "base_uri": "https://localhost:8080/",
          "height": 119
        }
      },
      "source": [
        "!pip install symspellpy"
      ],
      "execution_count": 0,
      "outputs": [
        {
          "output_type": "stream",
          "text": [
            "Collecting symspellpy\n",
            "\u001b[?25l  Downloading https://files.pythonhosted.org/packages/6d/0b/2daa14bf1ed649fff0d072b2e51ae98d8b45cae6cf8fdda41be01ce6c289/symspellpy-6.5.2-py3-none-any.whl (2.6MB)\n",
            "\u001b[K     |████████████████████████████████| 2.6MB 2.8MB/s \n",
            "\u001b[?25hRequirement already satisfied: numpy>=1.13.1 in /usr/local/lib/python3.6/dist-packages (from symspellpy) (1.18.2)\n",
            "Installing collected packages: symspellpy\n",
            "Successfully installed symspellpy-6.5.2\n"
          ],
          "name": "stdout"
        }
      ]
    },
    {
      "cell_type": "code",
      "metadata": {
        "id": "2xtQ2f9XtVzQ",
        "colab_type": "code",
        "colab": {}
      },
      "source": [
        "from symspellpy import SymSpell, Verbosity\n",
        "import pkg_resources"
      ],
      "execution_count": 0,
      "outputs": []
    },
    {
      "cell_type": "code",
      "metadata": {
        "id": "eKxUfXJCtgqc",
        "colab_type": "code",
        "outputId": "a7d621a9-30bb-4244-eaf5-c2b1425cee83",
        "colab": {
          "base_uri": "https://localhost:8080/",
          "height": 34
        }
      },
      "source": [
        "sym = SymSpell(max_dictionary_edit_distance=2, prefix_length=7)\n",
        "\n",
        "dictionary_path = pkg_resources.resource_filename(\"symspellpy\", \"frequency_dictionary_en_82_765.txt\")\n",
        "sym.load_dictionary(dictionary_path, term_index=0, count_index=1)"
      ],
      "execution_count": 0,
      "outputs": [
        {
          "output_type": "execute_result",
          "data": {
            "text/plain": [
              "True"
            ]
          },
          "metadata": {
            "tags": []
          },
          "execution_count": 28
        }
      ]
    },
    {
      "cell_type": "code",
      "metadata": {
        "id": "E35x1r07umk9",
        "colab_type": "code",
        "outputId": "65aa7db4-97e9-4ab8-d499-9d8fa6ccc533",
        "colab": {
          "base_uri": "https://localhost:8080/",
          "height": 34
        }
      },
      "source": [
        "error_term = 'hellooo'\n",
        "sym.lookup(error_term, Verbosity.CLOSEST, include_unknown=True)[0].term"
      ],
      "execution_count": 0,
      "outputs": [
        {
          "output_type": "execute_result",
          "data": {
            "text/plain": [
              "'hello'"
            ]
          },
          "metadata": {
            "tags": []
          },
          "execution_count": 29
        }
      ]
    },
    {
      "cell_type": "code",
      "metadata": {
        "id": "iIMjesGem3nx",
        "colab_type": "code",
        "outputId": "cc6d4742-dba7-4488-9bf7-cfd9ebf95c20",
        "colab": {
          "base_uri": "https://localhost:8080/",
          "height": 34
        }
      },
      "source": [
        "nltk.word_tokenize('hello'), nltk.word_tokenize('hellooo')"
      ],
      "execution_count": 0,
      "outputs": [
        {
          "output_type": "execute_result",
          "data": {
            "text/plain": [
              "(['hello'], ['hellooo'])"
            ]
          },
          "metadata": {
            "tags": []
          },
          "execution_count": 87
        }
      ]
    },
    {
      "cell_type": "markdown",
      "metadata": {
        "id": "mFlbcdDjw2f7",
        "colab_type": "text"
      },
      "source": [
        "## Emoji"
      ]
    },
    {
      "cell_type": "code",
      "metadata": {
        "id": "Od7ryTMUxPBE",
        "colab_type": "code",
        "outputId": "36e73d82-d1e5-452d-bc21-794d61848806",
        "colab": {
          "base_uri": "https://localhost:8080/",
          "height": 187
        }
      },
      "source": [
        "!pip install emoji"
      ],
      "execution_count": 0,
      "outputs": [
        {
          "output_type": "stream",
          "text": [
            "Collecting emoji\n",
            "\u001b[?25l  Downloading https://files.pythonhosted.org/packages/40/8d/521be7f0091fe0f2ae690cc044faf43e3445e0ff33c574eae752dd7e39fa/emoji-0.5.4.tar.gz (43kB)\n",
            "\r\u001b[K     |███████▌                        | 10kB 17.9MB/s eta 0:00:01\r\u001b[K     |███████████████                 | 20kB 3.3MB/s eta 0:00:01\r\u001b[K     |██████████████████████▋         | 30kB 4.2MB/s eta 0:00:01\r\u001b[K     |██████████████████████████████▏ | 40kB 3.1MB/s eta 0:00:01\r\u001b[K     |████████████████████████████████| 51kB 2.3MB/s \n",
            "\u001b[?25hBuilding wheels for collected packages: emoji\n",
            "  Building wheel for emoji (setup.py) ... \u001b[?25l\u001b[?25hdone\n",
            "  Created wheel for emoji: filename=emoji-0.5.4-cp36-none-any.whl size=42176 sha256=b4155e7dc13c55f234ed89351ac838dbd02aeceeb890fda7366f1e95844eeb92\n",
            "  Stored in directory: /root/.cache/pip/wheels/2a/a9/0a/4f8e8cce8074232aba240caca3fade315bb49fac68808d1a9c\n",
            "Successfully built emoji\n",
            "Installing collected packages: emoji\n",
            "Successfully installed emoji-0.5.4\n"
          ],
          "name": "stdout"
        }
      ]
    },
    {
      "cell_type": "code",
      "metadata": {
        "id": "O_YsrFxnw129",
        "colab_type": "code",
        "colab": {}
      },
      "source": [
        "import emoji"
      ],
      "execution_count": 0,
      "outputs": []
    },
    {
      "cell_type": "code",
      "metadata": {
        "id": "p1GzvY2DxUX3",
        "colab_type": "code",
        "outputId": "10e137d0-59f5-4ee7-8fa2-7e6828824890",
        "colab": {
          "base_uri": "https://localhost:8080/",
          "height": 34
        }
      },
      "source": [
        "print(emoji.emojize('Python is :thumbs_up:'))"
      ],
      "execution_count": 0,
      "outputs": [
        {
          "output_type": "stream",
          "text": [
            "Python is 👍\n"
          ],
          "name": "stdout"
        }
      ]
    },
    {
      "cell_type": "code",
      "metadata": {
        "id": "-fTjYJVmzBXc",
        "colab_type": "code",
        "colab": {}
      },
      "source": [
        "def getTokens(text):\n",
        "    stopWords = set(stopwords.words('english') + list(punctuation) + ['AT_USER','URL'])\n",
        "\n",
        "    text = text.translate(str.maketrans('', '', string.punctuation))    # Remove punctuation\n",
        "    text = re.sub('((www\\.[^\\s]+)|(https?://[^\\s]+))', 'URL', text)     # Remove URLs\n",
        "    text = re.sub('@[^\\s]+', 'AT_USER', text)                           # Remove usernames\n",
        "    text = text.lower()                                                 # Convert text to lower-case\n",
        "    tokens = nltk.word_tokenize(text)                                   # Tokenize the text\n",
        "    terms = [word for word in tokens if word not in stopWords]          # Remove tokens that are not stop words\n",
        "    \n",
        "    return terms"
      ],
      "execution_count": 0,
      "outputs": []
    },
    {
      "cell_type": "code",
      "metadata": {
        "id": "9oHJvABC0iXS",
        "colab_type": "code",
        "colab": {}
      },
      "source": [
        "def getTokens(text):\n",
        "\n",
        "    stopWords = set(stopwords.words('english') + list(punctuation) + ['AT_USER','URL'])\n",
        "\n",
        "    text = text.translate(str.maketrans('', '', string.punctuation))    # Remove punctuation\n",
        "    text = re.sub('((www\\.[^\\s]+)|(https?://[^\\s]+))', 'URL', text)     # Remove URLs\n",
        "    text = re.sub('@[^\\s]+', 'AT_USER', text)                           # Remove usernames\n",
        "    text = text.lower()                                                 # Convert text to lower-case\n",
        "    tokens = nltk.word_tokenize(text)                                   # Tokenize the text\n",
        "    terms = [word for word in tokens if (word not in stopWords and word.isalpha())]# Remove tokens that are not alphabetic or stop words\n",
        "    \n",
        "    return terms"
      ],
      "execution_count": 0,
      "outputs": []
    },
    {
      "cell_type": "code",
      "metadata": {
        "id": "lgio7WY2xnaa",
        "colab_type": "code",
        "outputId": "76dcedc5-5b4c-4443-90f2-5afdf15879d2",
        "colab": {
          "base_uri": "https://localhost:8080/",
          "height": 34
        }
      },
      "source": [
        "em = emoji.emojize(':thumbs_up:')\n",
        "sent = 'Python is 😀 and \\ud83d but not 6'\n",
        "getTokens(sent), TwitterSentimentModel.getTokens(sent)"
      ],
      "execution_count": 0,
      "outputs": [
        {
          "output_type": "execute_result",
          "data": {
            "text/plain": [
              "(['python', '😀', '\\ud83d', '6'], ['python'])"
            ]
          },
          "metadata": {
            "tags": []
          },
          "execution_count": 84
        }
      ]
    },
    {
      "cell_type": "code",
      "metadata": {
        "id": "B2yMGYJ8zcE3",
        "colab_type": "code",
        "outputId": "4f726a89-608b-4960-d8e9-c1e726ef0ccc",
        "colab": {
          "base_uri": "https://localhost:8080/",
          "height": 34
        }
      },
      "source": [
        "sent.translate(str.maketrans('', '', string.punctuation))"
      ],
      "execution_count": 0,
      "outputs": [
        {
          "output_type": "execute_result",
          "data": {
            "text/plain": [
              "'Python is 😀 and \\ud83d but not 6'"
            ]
          },
          "metadata": {
            "tags": []
          },
          "execution_count": 80
        }
      ]
    },
    {
      "cell_type": "markdown",
      "metadata": {
        "id": "FTuaLsa_IWkO",
        "colab_type": "text"
      },
      "source": [
        "## Word Cloud"
      ]
    },
    {
      "cell_type": "code",
      "metadata": {
        "id": "BxscpND0I2_i",
        "colab_type": "code",
        "colab": {}
      },
      "source": [
        "from wordcloud import WordCloud"
      ],
      "execution_count": 0,
      "outputs": []
    },
    {
      "cell_type": "code",
      "metadata": {
        "id": "e-4ErxfeJO_L",
        "colab_type": "code",
        "outputId": "f2eebb5f-ec7d-47ea-db5c-b6ef72254a8c",
        "colab": {
          "base_uri": "https://localhost:8080/",
          "height": 54
        }
      },
      "source": [
        "' '.join(model.setTerms.keys())"
      ],
      "execution_count": 0,
      "outputs": [
        {
          "output_type": "execute_result",
          "data": {
            "text/plain": [
              "'would rock wit yall im tight enough yet appleiphoneapps guys updates day bad nothing cool come chriswiggin french oral stereotype week wanted get striking didnt time attacked massive bee cus youre poor lonely child hahaha song forgot cheyeee yes indeed still outside ugh give thanks encouragement felt powerful quotno ones listeningquot alexalltimelow havent even seen weightless video makes sad xx ohhhhh wow missed thought mom said fault something idk aw man thats watching news loose faith human kind annasamara balcony quite high adimasty ill damned courtneyenders fuck yea amp bed ferris buellers trying go fall asleep took tylenol pm aashleyyyy know dont want faster cuz summers gone babyjew sorry force habit amazcuna went uniqlo expensive hk clothdiapermom oh hope okay quotthe perks wallflowerquot favourite book ever antkatie wish work sleepy chucklebug nice mall lucky tweetin makin feel left amyyvee byee cya tomoz coachdeb miss quotreallyquot reading since got attached computer listen mostly quotaudioquot books wan na change alefifer stuck detroit connection minutes closed door us boston bust ashbymh first quote deserves face second helloooo talked years applesu unfair picking sleepdeprived choklate waiting cd reach postbox uk amazoncom painful good music andyoureuglytoo bitch one thing wantfeels impossible ask iinternship tho yuck watch movies bethlano ouch many levels thank god putting life barley hitting dad like really babygirlparis night paris love much beautiful xoxo viktoria vienna bts could totally going concert tonight charinafay broke arthasthedog arthas see thursday courtthedork lol raining crazy california asimplegirl goodnight hug ice baby bobbijane ohh sometime well cheer anamolly plan never turned cleaned house everything quotits game stay lines hit carsquot id anything back cabreranina imyy grounded kasi eh arianmarie hey girl loss best wishes alicerocks omg dumb question nicola tuesday soon afsoon knowww embarassing ajibahajibah googling victim gon changed mind ily beanchef chai sick atm outlining smoking edifying interruptions paranoia walk cheers chknlomein understand hes nolan coming though abbylinne wtf ending arguing huz smf stupid home improvement crap abigailesevich ustream bit bowits gives try tomorrow guess without phone today anoopdoggdesai awe arent fun hanging idols aurik ended leaving old guild cause wasnt allowed pug ran leader shouted lot aimeenbarnes actually referencing office worker situations pervasive culture cambendy build os allmyescapades yeah new ball dress arbinde mac cud drs beverly hillsdoctors scare wrote earlier send lack tweets lil macbook hospital channeldvorak right appears apply unborn red lobster eat ahj bonkers reply facebook shame norwich andrewschof done shopping horrible weather beautebyashleyk happened giving another shot november ash win ny til cloverdash freddie ok alohasrvddaily flu damn allergies suck blue balls follow free blowjob sims release buy breeeezy days wut sposed rain alextrafford lost yesterday hour tweet amberbadbxtch lmfao aww beat boyfriend ima step itty bitty ass u pounce aspenspin sure chance meet glad liking mich st run rooting unc clareohh become worse chaoticbarb confusing using twitter questions two pages open fitfam bluebox bbwgloryfoxxx hard doubt effin hate angiechristine starting think beqbeq fuckin steven alyssaatkinson tournament weekend easier charhjc hear feeling better wine puppies times crookedpigtails awwwww graduation awards sheet paper saying quotyou finished kindergartenquot carlohilton hiptopssidekicks mine gets sends messages arodslove hot makeup meltdown casepres pia cant make amystark yoga lukes hurty aedrianshaene alright cinnamoncloud makeover shows boo quotcannedquot schedule bored uuu stick booksss fb darn haha sawry beaueurell paying awfully attention balancing checkbook afternoon players use phones kwickfish quotso stand knows wont used gonequoti everyone yo tweetd tha wrong person adammackwright istock images legally logos unfortunately antognoli theres plant seeds deer proofing hassle aceybongos xbox presser opened videos fml weakness chocolate means lap happygolucky pretty disgusted story seriously three able seat harness amazingphoebe morning birthday breakfast grandma talk annaingalls agree lax ahh hella anthrox tried behalf distribution group fine slowly boring away ta greens great soooo usual alix rest peace also read beesue find search wouldnt bring names cheada ihave mortgage bills put else plate feels anttawanna probably half anyway askseesmic followup restart solves issues temporarily every keep working oceania cruises charges clients banking fee top final payment wassup upset dinara roland garros safins msn whore akatk managed stop breathe sort anxious controlling breathing key shit choked last throat chest ache headache chicken noodle soup sandwich chips brianbreslin mozzies rains year neighbor organic treatment smells raw paprika ashleyyosaurus favorite pairing ashleyarrison sydney siders bummed show melbourne briannamiller might server ive gotten emails behind andrews xxx relateyou feelknow affirmingspirit excuse altoiisinger difference imu bookbindingteam meeting accident carried studio track gunna study science test socials notes babysit enjoy blurked nevada license switching registrationinsurance nc expire look hipster trash sweaty underclothed benjibeefus eating strawberries place killed laptop awesome finding almost detox trance alexofliveagl glue krazy basically ripped real lashes remove aplusk iran comment oppressive govts citiz paranoid ballots traced nyc wouldve cost drive friends testing destroy ends bose earphones spares size bum chrismcelligott sun disappeared running none till hours sleep n busy lata ashdhart yay frustration least desertlove visit money fly silly astroboyisgay wah yung limitaw breelin need ameides scared encourage ajatheeagle must tired areak exactly spammos post offer links affiliate sign lure people click sent direct goin swimmin pool gparents boomshard wishin quotyoure meaning inspirationquot thinking phils iphone text root beer aampw barqs ibc doesnt starts mow play softball nope cupcake either amandabuzard stormy couldnt sunburned lady aaronob teacher expired lesson ride pick sighs twoonly counting sheep bethofalltrades lofnotc cindywmorrison reason meaningful sporting event ridiculous christineyurie caspermarino mvilladolid glurch answers acmhatre audio piece completely different perception punjab caseysevenfold aerosolfiends die vicodin wisdom tooth growing chrisleben next email hasnt called blown okits past ring whos blockhead archit luckier getting knackered hopefully itll quiet write hows hun haveyouever wondered billion world fell ha wait way cooler brookeburke error page keeps showing contest form winlol please fix stuff bunkerb nozzel sold candicekei utah aliceinnyc missing abbaks dukestjournal let swarheit honorary member despite fact lives tea quotseasonalquot drink extrenely happy school gig lt soccer semi maybe thurs acidnation angryfacing shoulda bought pot noodles alternatefinch ur although room super strict overnight visitors bigemrg tell enroute longleat pics ashleytisdale york ckinney throws lemons lemonade awwww knw wlda plenty say abt evrythg csiprintchick happen dear take moods matter brendacopeland table flip amyshell brawngpfanblog ah charlieks tonitaface emmaleeks nanawish quotthat little boys gota pet responsibility dog call quitsquot agthekid onthebus mins arrive allaboutg expect internet focused ses smx wants wifi autologicality nightmares meetings long loli spoilersshouldnt impatient cjayphillips saddest heard abletontweets stores near sell june ouchh poked eye dragon jus attack christinaaxidol ya rite awful confusedkhmai ameerabh classic mario bros flash versions ashleyarminio loved friendlys lived njnone texas barrliz easy says honestly color lots punk anymore anyamarina saw northface stolen along camera jason appstoremod box practice funny baronvoncarson weekends mortal alexaherrera hahai remeber married eraser thnx robarmelo aloliver nearest miles later brittashley phonelessif ewww asherroth pls bacardi dr pepper nub la roux head microsoft announces intention cease development marketing fail barackobama mr obama killing harmless andyscherzinger estimated delivery looot crissangel chris clock row huge fan dissappointed believe seem laurenmallory pouts resting giggles softly alisweeney thin looks husband commented annalouisex fair always ruins aimecain aight mans vvv moneyi hav freshen rocking magnum mustache chelseajordyn wanting forever cry frosting together azmomofmanyhats car gain wreck anmolpinto offending culprite balkanbeat may couple benstiller already diary offial end youth grow longer anthonyshort servers hi swettie blackimpala mean squarespace needs larry w quotmy spoon bigquot delicious daycamper bus angelkaybrial thomas pain crunchie yummy azandiamjbb meant wellllwell babealertceo allangoesdmb sucks sing store askingsrry babes live tonite sumtime tmrrw avahra hugs hurry net access uno cristineve math classes pune palkhi main roads causes hr delay reaching americanadian corruptedangel fucking exceeds barevinyl sounds cut workout short late chrisdjmoyles tickets mk gutted ahanhbarbie hanh account hacked posting random couponspam pavel lttigersfan gt biseman sitting mtn view station train claxamana nathy kill wifey peach hisher pussy lesbian orgy woah odna chrishasboobs speeches batifans forget perth paddock tix yr crustydolphin knew jammy pink icing count fruit veg ashton stomach artesea httpwwwparliamentlivetv works ie ff blackmetalkitty apart aunt dying coldplay emergency request friendfan vancouver help shes awww remember p ago blackwhiteworld met someone acoustic session sigh httptweetsg sense suicide refuse bakingwithplath holy aint cat pissed prize possession tempurpedic clue bebiv munster bobbyedner crying evers itunes maisy naaaw pooor mai yu milk coookies trick aravindjose indian premiere league impression south africans gibs alexnevamind quoted inseperable juss tweeted starryeyed noooo credit card splash tweeting clairehammond hideous argh talent musical instinct knowledge fever blessing curse things hpapi gud dnt boosie fade plies receiding hairline heltart billharper making typos boogiesworld sexy messes whole billyraycyrus billy argentina allisonfether juliabut r tweetdeck anyone problem desktop client lets athlete tear acl television churchagainstupid backwards sleeping habits cadistra whimper calidreaman outta peepsnever da casino shouldve taken wu site choadmalma initially backstreetboys noes vote plus picture whats bsb vegas tx forward july pokerface century full version socialscope quotif games playstationquot playstation ceo jack tretton ashleyhonsinger clumpsofmascara b blender needed cellobard bees badhousewife heh stil therehows joe brettnolan samei annettedubow across andrewhogsten somissed doubtparamore tonightby looked mornings chemicalzombie benshephard definately guinnesswait neither drunk smart shutup ythefuck dem sorty thick girls neva dat casinoweb chrgary desk floor flakes pandora rainy mad dis ugly pic cropped million fit audella billarchie yeseven debz dilemmaactually disconnected bcoz lagginggeezthis angieruiz autumndefense bb ilu analogamy carling popular lager yearn unique flavouring odd brennanannie army fire squirrels riding lightening hedgehogs burn badastronomer teh greatest chrissyjohnson jackie tomm sunday crunchyk boy yorklmao nick name low cute chelsealucy andron senshi elijah alliedill awh fuqtwitter asked disco filing harassment andrewcaravella brunoleandrooo mum sister mewhat hurts thinkin knowing dontquot cherrytreelim anea purple bugger naxx desperately theyre thus tame xpac agendi square hole big index finger thumbnail stitches heal luck posted aurumarum found repose hearing ainzneal knoooowww hurting coworkers allankyq brrrr leh unless early atampt customers alexanderchee dressed wojnarowczs rimbaud photo series halloween tmobile choice hittin remind total legit fighters mikewesely note self rub eyes cutting habenaros woke aprilroxx averysmallcow blipfish teesed cp mods buys em round adammshankman accionatasha kool ther bradiewebbstack andy meanie blackfilipino leave alicefletcherx sylvie dude wondering telling shut barely boredwish somewhere goha trms talking doctor helpdumb asshats brainthats getfrme adrijohnson lame connieprays profanity mama save bigbosssnow lawwy sat knoooo andygeog fairness vanished unusual recent including children alettertoolong happiness leezle conorp girlfriend ballookey course idiot quit xfiles around knowle bwadoo antheia loop cohoonsworld kinda houston astros dontyouhate living town bitches whilst far battery um miniscule neogaf cindyloveofbook blog beatwittyparty stinks acct compromised quotsighquot load homework join loads biting ankles realllllyyyyyy set drug goes bombingflowers oooh breaking newsjim balsillies attempt phoenix coyotes hamilton rejected arizona bankruptcy judge ughh bow ambreis sticky plans andrewbarnett thrisdayfriday placed special clearance chq priority quotscream small mailman youquot movie uhhhhhhhhhmmmmmmm snuggle warm businesscrazy monopolistic texts cjordan exam written pass difficult windows carmadee hearthope asap apinstein weiyang robdyrdek cameoapparently rob atl angelacchang friend notice bet metro quicker traffic sucked jbyoutubesuspended agentbooth whispers thewatchmaker strange celinehlbk drinking wateru hydrate acidraindropz soooooop gadgetopia dm following aussiekozy gee turning skirmish mates double karting official garden andyclemmensen icecream worldamp belive elora denan getaway anotherjulia spymaster dms followed uglysounding baneen azuritetalk uh myinnerjules american society violent angelmagno gg season ipod pictures clembastow wwwwwwhhatt papers quotin possibility outbreak swine programme shortened crazycolours similar taste men except cowell clarreal steal alistpromotions sooo watched jetix learn inaperfectworld finally quotlove yaquot hq mix mastered chicagosweather clean bubzbeauty bubscriber abovecommon objectpop art farrah fawcett deleted dvr bpedjpat kno riten juz downtime adhaal quotdont worldquot angelinexo hiatus christiiex hahahaha complicated imovie messing bwahacker bloody annoying blehh alluredegrace care doggy quotpracticingquot margaritas order bista fully couples montage beginning supposedly part quoti break himquot quotadobe uses dmca protocol promised openquot slashdot rtmpdump project billbathgate boiitis danceyay moobs ooommm apple ryan leslie christopheruk shi arse gear basantam sadly restocked hilo appstore approval hrs brenonakalu yeap made caroline characters maximum url batman brave bold cazob whatss link amandaseyfried amandabaybeee yous proper jealouss clearly mark owen amandarkk xd looking huhu chrissieee bmcfan happens jimmy johnson albinokid ps lullabye hah historia mundi worth dead knife adubbbbbbz class mel aparnaandhare issue respective lolz chriscoyier side fixing wwwcsstrickscom css design asamiramirez watercolors benjamminspears grayson students bhaddad vacation drawing close alexistehpom info didmaybe missataarigmailcom bradie webbbbbbbbbbbbbbbbbbbbbb cleaverland bmthofficial jktwhy cancelled mi bf ceyoungquist asking quick mood yesyouu ashleyeastwest abc franchise type business saturday closer monday summer archergal frontline beachinbiggs slavin alexiaaa oohhhh fai youve planned ages buzzedition limiting weird honest replies function jail feed sparse quotwe young quot breeanabustos yumm pie cam upgrades months wout alisonpu sunblock heading coliseum burns andrewaesthetic disneyland painlucky cont deaf loudly ppl complaining bummer turn volume aprillelim miiyoki hurt wa tonght motivation checklistqueen geoff wendy maaaaaaaaahhhhhhh radio c mothersinstinct selfpluggage ladies cold aucklandthe temp dropped thiss nothingggg theree briaa threw andrewavery provoke mothers whose loves tlc waterfalls andreayoas van aussiecynic parents hellooooo effing holidays certifiedhttpbitlyrkidd quotmiddle roadquotsorry youd andreaamazzzing laying bc brunch couldve brandiroxfaces alexy date codemonkeyism contributions success female changibedsheets dvds shipped shelf alchanii admit aparently barnoah texans compete rodeo stampede authentic boots quotsup looong veggies lazy cook busymom google reader gmail gave ultracet cvs luckily boyfs fat lip alexalbrecht died callierenee seeing satan silent scream subside mares catching traveling differnt zones trip body hybernating alwaysv kc wake behkhabee anadeanda hang andreasaysjump chose homeschooled everyones bdfineart alejandraduhh chat senses water ears adamxtreme received kingdom ino hmm unloved cassieclare youll publish fourth instruments isnt tragedy biggest letting bebastitch charcharbabyyeh lmaooooooo char x armcnctdmobile httptinyurlcomnrqpg annelisewojo generated signs presentations add humor alisonmyra ripstick job bgt kid alyshatan alyampli happybdaykrisallen kris jesus nme gotandrex guy heart andifashion badpony worst alanscobbie arsed fancy alitherunner functionality system chyeahitsalicia exercise becuase alyssafollowill appreciate youand outgayed adarlingxo circasurvive online apparently permit update cheerok stephanie witcha girrrl ceososincere joking cosmodoll daaamn hahahahhaahahaa mann transmission pontiac dyin aelfling blows mexico baton rougeno comes kayjay noonies twinn allieloves allie suppose irish hold dreams family hello breannnna sore inclined act smoke hayday buster flavors quothahah jealous legs truth catarinem aussie woooooooooon results brows cries revision coursework bizoink dinero maaaan calc brought umm candacekaru status suni voodooall efforts failed arronthomas babe csellmybelle themonduce haters thevenominside casssandy depressing exams sympathetic prolly singtel customer brendanwong ken nervous extreme yg silverstone signal attybowen arlando havne timenow astridaml maaf sushitu hunger casieekidd sorryyyyy barreh start avasamone kiss brookehavenxxx alllee woulda alicialarala pakcricket afridi opening spanishkisses beats bclub shout outs empty fight comedydave ironic manchester moody agitated lately bloodimari wod cash ainante canhasnameplz exclusive bgalbs att jerks attsucks benjern annekaburrett antoniamoreno enmd alexandramusic alex havnt twittered frankly classicsydney played terrible basketball sometimes mentally raped alone axigy pcs dell replaced latching mechanism inside glass carterronson hungry az fk aliem cobler baldeggie ikr pints coast dollars ddsutte graduated leavin tunak tun alexsheppard swollen amberofcourse ex lydia drummer drums band le anniedafg nah morn church london instead eatin candybar fucked glimpse bloke captainkirt kids logging convinced sista hand massage sheesh badarama nobody understands jokes amyjean infection aleclightwood compared healthy disgusting azizshalan iphones voyager ms choppy waters jumped ship alancarr prick rich bethdonald diet nectarine lettuce chrisoakley perrilewis kitten informed benbalbo announcement cfp mailing list jeanjean naman bluntmag douchebag hahah liked poster labels fixedcant moneycant soap grrrr bannedaccount topic abbyluvsaj nhn bonus ri chc ch khon unpaid blacknightbk nuff sir ashleighryder knooww bottle iss whangamata ahhhhh north clmaggart rod tjo cpritch thanx followfriday alcineyabut excited crystalchappell true definitely future tv sit hotel cheezo retweet retweeters forreal bmore whens comin crashes jaikbreak original firmware englisch weezy asa ambellina skating blakeshelton seats airplanes flying aitchemelle told theyd published worked gaaaah buddy akomuzikera espn baseball clapyourfeet stephsiaugmailcom receive costavidafred awwwwww cheesescorn playing doc rolando gatorade serve gym pe squigglicious spoilars cow sighi dunno ax ponyp bbrriittttyy chimmykins travel arrangements spoilers alicemcrussell courseofhistory gentle honey alannahapple wee dinner chevale emo lakers huh lovely jeopardy simpsons pen aluciel dvrd caught mj cancer ate alexxenglish esotsm beautifulpyre grr gas grills anneittab crashovrride acornmusic andrew chrisagriffin quototherquot teams pull bestisalsati coraline lifes anniewhere cats smell caimommy declaring androidtomato nite canyoudecodeme calvinharris belfast babyliu petitions fox sooooo blame misha barton cali canada sham bribe jp heeeey boooo tummy complicatedmama absoluttitanium bastardbrandy fr allybingham crashing manage graphics downside blew moms gfs birthdays anhicaluvsjonas godbless astynes ooh divine angelicatrimble shakes rip charles j less fellow quotbye byequot cleveland sassy coz cookand athens landmark georgia theater acwho oops score slower ashleyltmsyf spanish pub john walking unstable hands pockets merlot party chickgonebad corneliaprior nooo h choo shades offices reeeeeeeally shitty ohmis antonyoxxx secondbut green bay alittlethought migraines sunny copperleafst bs aegies agreed footage amandapalmer removed youtube abbiefletcher erm drag hell chrisfranzmusic aaaaaaaahhhhh aegrai unfortunatly keurig busted ol instamatic contraption consradftw coated beeswax chedsorr five thirty feckin therealjaymills indie support joints jive scarce coachmonique laughter fountain wht hoes alwaysmuah ruthie twitts respond mikey dion nyaaaaaa christina gointa boredom newry gtlt dan gayyyyyyy gtgt lunch pants falling shoe bikini arachnais supposed fighting soooowell dining quotone dick upquot alyssabarlow bg podcasts crossfitrva iconfess college highschool anaxo number tricexbaby slap annapires currently moscow embed wordpress afinefrenzy twitterhaters barbarahymus outbut windy celticcrossing health food carryfiasco alexcraven thousands ceiliaaleen ewin charge te reorganizing repainting officewere quotlets somebodyquot uncle anniemagus field report crispredtan k chrisruffin hrmph austrolatrish celiac gfree brazillian bread recipe delivers okanagan abixmorgs bitten boob bites tonnes rural surroundings andysc welcome proprietary driver tsuasai sweet thai clumsy garage dammit bethenny recorded babyrabies dds blood typr birth soc sec lostor community organizer degree quotmicrosoft sues fraud schemequot msftgdfuspare aarrgh bothered woth amykinsonebay shifts flop quotcheatquot per alcohol tone upi baitlynsays spencerpratt cell wankers tut bigshoesnetwork bigy fumes rush ayvii mami younginss lmao sushigroove alaskaair clicked noon crucifire bro blackwednesday bootcamp skytrain sweater austinjay tiki branch avatar updated tweetie crazycrayon alancfrancis theatre listed aliciaway shooting stars month failing camillemarrinan dilemma charleypearson loubee stepped tray paint chantellepaige awhile baileemarshall yupp antwerp recalled weeks brazilian authorities snow asthma cabaretnight wolfram alpha researchers information provided wikipedia useless ashleymariej nikkidlf mesa hoped bobby flay chel hv bucket lay grey skies packing wiifit moonlight wabash indiana chrisdaughtry disappointed blambu reports asos spend charging bberry wall chargers alyssamilano eskie perezhilton england crc august likely amazing ariellevigare cheatmateeee bloggal friday violence deli hosty wo projectt chilling tino rozzzz amaniw makesell telenovela message checking often arkaydion rian reached broadband limit renew waaah dooo palm pre centro dies contacts transfered sadpanda hehe brookelovesyoux willing trade miserable horrid accessoriesuk catherineeharri wana tomorow paycheck hiccuuppsss aaband nandos countwiggles alanamarisa baybeh imisskimbo alidavis nepotism alive unites states government clairebell peanut butter cookies billraia myth otherwise angelamyrf sweetie wife carthesian acmulcahy mamiya emerson ooc episode aiscream approved tmrow mwuaha pay nickyjr enjoyed seems uhm verrrry grrr danalynn noticed minds starving dieted larochelle bald jade alielayus promote groove unfornately anaheim listening blehhh countstex alizan corts stilll saadmaadhaven mixed emotions reeaally pplz lovee chrissysweeney quotim standing lose goquot beeeeyotch therapy beeetch amandabynes artisodmg lbeezysodmg josipondeck missesoxclusive shoutout httptinyurlcom adrian addresses emailed brittanybaybeh ameliesoleil edd alitron spending amandagcortez technically gyro pizza derail weight soi ashymon vegetable thingys mam tiny babystray wrals kathy singing songs tour duets scrapped indiv sets werent lifequot awaisnaseer cover blogging mileynileymustin war begin mileycyrus hating eachother wrongg chelsearosario highlight battlelion users asweascend gay moochers fixed aionxaen alyssanoelled costs allison smoothie muc cicadastudio power cpl wks figure modem cbye amyanxiety venue broken allearsdeb staying bcv doodle bosses quottheres kidquotthats aussiematelc physics yeh skool revie awee rubbish butterstulle episodes scenes assassinating cakey iranelection armywifeydebbie article imagine schoolbig adjustment cafemetro brooklyn ashmrx yessolis cunt bmth sud bmthbring curtis backkkk ayeekat aswesoar ohio bambycaulfield sweatingno bluefloor squarespaceneed towards getn repairs chickenroyal repoint accordingtonina route procrastinating cards everyday usualy rough annlovey annid bitchyliek uhmm death angelaflagella charleysayspop ad quotair assistantquot applying aeroplane remembering alliewayyy peoplei exist park jackets required brennasmom youi collegeloveent mandatory clicknothing scct secret creative ds ubi bursaar allergic ambereubanks ruin attach blah burcuakyol resistance reasons supplied jobs homes families sytycd dougiemcfly airabby awaresg wonder media tmr egm result loselose sori amiralovesyou thereit workk carriboberry rhyno wey yuh yuhquot smh fri amiemccarron lolonly bitterrsvveett andrewvillegas trial endurance aaron bigtexuk yh helping exhausted housebound filthy clothes quotwhat julyquot aquascorpio germany chapman straight flipping copies alexisnotfunny yup unit higgenson fallon soemthing xxxxxxxxxxx auditiondanny alneezy somerset anotherdime chipotle line problems calls pix ontd srry buds totherun tbf pss cornflakes ashleysodmg cheese eazy icantstand nonspeakin followers androidandme ddms debugging apps coldugh sniff carlikup rid clear fish wedding fishchicken bluemarbl selective coverage crazyagain audrey cousin kidney failure finish album brazil angharadtomos aber pier pressure ltho hogt boldinsider pam sulk audience donna contestants natearchibald answer sooner theyll hunt tutorials abroad answare fans miley cyrus rlly akzucco dangit ae alter filter elbowing uptodate machine jamie mono charlietrc mills invite amyelizbeth straws bash hotis france breakkie lianglin xt ortigas blocks suspense harry potter brightondoll thankfully hericabral allisonweiss duuude huggles btcc vaulkhard pushing memory anniemay west san diegoyou kicked insomnia midnight nights alexpo afros bizzare avoid ellie collin coreydtt brother jordans bday bigpondteam excellent rang engaged awesomefrank worry andrewdearling stayin chaminade perrybelcher hrhsophied apartment citycynic blocked confused amyedgeworth bluewater capitaln whatever calves asobitech bilboski soul courtneynumnums thoughts prayers billieperry lenny combination britneyspears britney italy pleaseeeeeeeeee alldvdku sayang tidak ada carefur disini hayfever tablets laser light prefer tamiflu aleskywalker ale radiographic positioning pocket manual cynthiadand alpew suffered learned baked onto windscreen bureyean misss tooo bubbbs bringo replace shell bellesea breakingdawn farm klepto moneyyy autismfamily research alas feet trek pun intended blasha meesa alexiehernandez chassit efficient ashtroid evening ehh beautifoolme sniffle visiting partyin drunkenly club hinted censorphoto washing showed promise bugs wheniwerealad pinch dads bag crisps antcola shooti famous spot cue block ccaiitllinn laugh ampnope remindin evil ayety wha stuffwotimadeup grammar heroes hoping orange coycoy sunburnt ln briiitney oweee xtineoh njoy sunshine shed slept mommys yawn awake finest asnow emily arbalestx spelt wrongly forum ltltltltltlt florida norwood fam bearbrigata perfect daysonot amomtwoboys viewings minute angiefacee hbeci hiiiiiiiiiii brookstar mimmy diddy blaqkgloss theiancrawford cab heartbroken understatement ian bioncaaa snap roots throw questo crazydaisytmg ugghhh throatvoice allmywonders cream wednesday volleyball chuckstchuck poo somehow alexspencex mummy brontesaurus coins awesomebrandi editing apparent asickpuppy rectifying mistake immediately antzpantz ageofreptiles jessica jump land rescue snif chilmarkd aznbean chivalrypony casseyvee guarantee guam japan tmrw chadiggs chaddy positive bunnybridget trapeze teaches anightintoronto bendyystrawz freak nighter weekendim painting woo bethiepooo comesaturday fav slatin razorlighthaha andrewgoldstein antimileyhaters mileyworld soo aliciasanchez writer crush chrissiexm shy stream flight appomattoxnews however includes convicts amtalley popularity votes realy sunburnhurts brownies blueberry bagels ginger oatmeal yesssssssss adamgoldston timed urs buckhollywood gareishly alissakaye nada chillin missin hubbster doubting colitogigante adamtlee ksc star nonspace experiencing chelsky verdorie audrimurder gaga lightning ashleighinsane ahhhh chill bozbizz known saved sarabatchs necl replying eeeee deveriam postar todo dia fricken bbquiz refreshin adamboreland aschernathan delete redo artist bosunmcshiny hits colder april struggled writing tokiohotel sillier cdnbelle ready possibly grahams distracting sebday antdeshawn amblass lossie ahmedzainal british madeleine manama daniel kandi anotherfrog effort choirbean translate words sentences benlilley jessso ajortega kick agentm amazon selling halo wars bernmorley instrument ure catriceholmes aliciacaballero craigfl anatrip ana astridcallista suddenly string events insane claudiavalentin cum chelseamarie boatloads sharpies bflywears helps jetlagged craft quicklyread checksunday akafrancie quotuh ohquot doingquot focusing audreyjrs bbm buyers remorse andycrow chumanii unavailable seconds alska andreap struggling meds refilled buying disability misscha tons turnoff lesbians stu deezy via todayand almightykey punch nose hairs library influencing cstatus ew bits animals obv wendyr christineevans transformers couturesmith wheres billyboy circumstances princesstabs seagull chicks borders obsessive gaining cherylrmonaghan bikes offline brakes accidentally leaked hyd oil mtb berkleys cathy hellos xoxoxs dudes upsetting uff amazondotjon realizing overdosed daily dose haterade trent bonjournessa claims cal rotten kristine hubby beccadearfield aidadoll ho trey michaels coupons crack addict jobagain screw detention bigfatphoenix checked mail hyoeractive bradinator geez lillooet area hectares air eeek usually clemntine wonderful wed newport auto luckyyou capoeira cos debt recently strapped mo applecharlotte frozen amysusanne boss son accounts specially hates determined vikkicullen adii incorrectly brandelion freezing damp astoryaboutmac usa adelein chatting ideas crissyebhear cpuclub mike denver generous antoinebugleboy dna damage carrieaway timesbut mehahha jk aniahime anna stuffed eeyore amerz truly install cardiffblogger thunder headaches especially sol brighten dreadfully mines absolutely mental bmitchdotorg brandy chnl black addiction speak presence teeth yellow price speech national bnp leaflet frenzy moment airofina annies adrianlynch hmmm appearing iremember sized clothing claire glendale exploring poorer audi barbylon montgomery sphere mcwane bluepirateship tan magazine anime releases shirt brittanyhowser soy cherry chip yogurt gooood ditto clsmarathon melted beanatx jonampkate divorcingi myweakness dominos cheeseburst pizzashit angelicabaybee jerk zealand jordyn catbud sonic meand mayyybe chilicheese fries cookout g rap boykillboy astara dropping buggy afford burghbaby embarrassed cities multiple dates dice artistiquemeg amberlovely dougie ianne pausing salt allyheman thrown twice bigcatface quickly xxxxxxx butadream toes chipped jackalltimelow dannykurily faff faceless nowee chelseagsummers anywhere agstout poisoning benmusiccity ben congrats afterward andrewpaulbond pres clarence apl pilot whales beached tide retreated erica tough mouth omfg ashamed yeaaahhh spare xo abit joke acslater beatport kept restricted beign cautious brittoncampbell absent fir catichka section service catch corp annleewai barbaro crutches remindes dope eachothas agouty tears kansas city annerdo fast recovery comcastbonnie yep cloudlover switch space heater avail icebox ariapro blayor camburglar asostamara alarms builders nowaday responses plurks bxdash shape easily ablizno infinity alexmauricio cherylelapitan heyy abcdefglynis bff tis autumn winter allisonmack waityou quotaskingquot bfheroes download beta absolute listened illegally dirty alexismichelle oo bluishdayz bcollinstattoo soar throats earaches caldjr wet posty cough curled couch gbsinkers windshield replacing wiper blades whaaaat panics fill booo twin becksbeer youl crazymadzy haahha xlarge kino skype allyannaaa yee finals disappearn agn paid stripper bobbryar bob cody bootleg afreshmusic dj started reverted foolishness quotfind gideon aulia brokensadly saaaaad waffle bean chriswuhu strike buzzbishop colour trivial unfollow considering brainpicker explain notcool swimming thx rockin ion ftw carpesomediem sillyphylly worstfeeling audsey lastnight augusttremulous michael replied anytime infected indisposable housecraptastic andreaonfod cientifiq almostidealist europe cameo performance slightly thinned poodle cuts urrgh arseniarawrr sleepover bayjay invaded denied crazisexcicool akatzenbach madmex cindalalala cotton candy winning amprgroup camistryy youim twsayquothiquotto cameronmarion pshh toobut krispy kreme bandnerdtx xyz context goood homie bianica bnewendorp verizon fo rus amoresempre came crittyjoy becky christy nockels downengine watever besides bachmann texan intern filled quest adelaide hills tarmac rally alcarlton suitcase shoes realized bdiddy camperbob character campaign bendlyons luckkky dock angeladee alissha botgirlq bbkevftw knowhayyyyyyyyy pee sonny damm chelseasms hotter middle bing engine simply armcandy tweetgenius tg redownloaded boygenius anousonne ã amykate spread pinky bother bbcwhys beg pebble inuits praying voice aholston myspace anybody angiringsitup damnit cheekygeeky barry officially joined given collectivesoul vitamins childhood perform israel christineduggan fab crmfyi impressive seusss carlawaslike caraandclo aafreen muscles choosyouki youkilove nosebleed lei candidgyal itu wishing trystianity eyebrow piercing ton piercings carolune extra mb unlimited bettyflies board btfs bar cabbiepat croissant rolls bacon eggs sausages quotdue queues entry museum banksy kenny andrewcilley fl toknight xld sophielouise sophie il eventually invited alliepawell reals paw ahcomeonnowted reception youbut beetle astallaselle danimarie sending btica deal bitchin hat callin loser clairecordon moved sky nightmare nudity commercials countries watchin paul blart cop parts previews boycottlovee skinny jeans frisby roof ashfletch knit pakistan cricket finalno kallis craigballantyne butt motivated yoru bummma chuybe bsbaegirl anniehuffman eight cashiusgreen akirahime appointment guessing loooong everybody decision celiciavs looove benyacobi arnegreyling economics alydenisof reminding aawww alyshachandra hehehe nih lyshhhh zanidia iya pake udang aku taunya cmn ayam gitu niiiiid clarixxxa tpkeanyagkjadi coffeechicka leads nowhere anotorias central pk installed rc problematic carlyhannah bignbeardy aonir copy brookeybabeh yeahh aye cathyfreshhh drpepper breesymone nooooooooooooooo shattered selfish andysowards secretgarden blooming insect available jonas bgermainx cuevafamily gurl performing toy piano blond alexisjones laurens heads pulsating lovelyyy carltonf wilsons fridaylong cpu nerds centralmo allancole posts ac brittanytastic younger dating ashleyyakira nothin charlieskies pokemon visa wavier plane web advance progress quotjordanyupquothave sound husky orville ashley corrie scott bytey quotday onequot alanis morissette yepi extend hawaii ahhh animatronyx amdolores sam gullens sataday bless lewis aunties credd photos share badgersprite bpd afraid chatzy comp shop hair stylist cahcat blursleeper ability teleport andyhartmark puppy athousandmyles wala ako unsure annoyed hissy olive restaurant arunbasilal wich colg cruel pretend shall due market cooking captainwalker jamestown colliebuddz vinyl searched massiveb alexxwatson cried adam christianabsi wicked gun shsteven twitterlessmike ratatouli alice joemisika match teamwork torres passed lotsa adellecharles nlhe adaripp rotate owell lappy burnung leg cianw mussels etc dissecting uni realising pookie isavedlatin fridge mums amyftw feud incorporated bfs shouldnt bffs divorced repeat caitlingpotter freaking bananasmel tsssif ciggies iquotd anddrc kwod andrewsheldon twit costly cheep aniamigdal annoyin dayshope eyelash somethin bombaygunrunner alba suspended fake chelseaa prepare christinaaaboo universe atyourjunes curves hairy bush adriantodd brigittepicot lor congee nooooooo everton sahas goal epic facup chinacat hospice return website stage level bruisemeister emoticons arataka ignore himher mommy worries brandonofcourse abhibera stravros flatley singers sod xfactor suspect singer ashleymshep betta jens limo nambu application crashed colettehighfive sleeeeeep eww nastypoor channel amazingbianca ticket workin bostonrandy redeyefans bill sings httpbitlykaqwp redeye baomoi tá cã roã lãªn tarra cincauhangus nvr jacket mints tisu wipe road babygirlmaui jordan dancing check cruise adrunkreaper quality coloradoweather carlybrigantino mee prob nephew goodsex cycle badsex bradhigham steamboats mmmmm ws strt bio andrewdisley carolineleslie harbinger doom particular illness necrotizing fasciitis nearly alol ashlinnlua ohhhh bricolebolt blacklovexxx tweetingsupposed sex negative ghostrider discovered belltown neck brlittle bluecupcakes options bratoftheyear moth butterfly dragonfly bungieboy rum longest court trailing toilet shorts bathroom bitexlouise animal butits unoriginal upstairs arrgghhhhh relax bbcrad goodluck log bethtemple uhhhi dudeshe e ashingtonrave arghhh ruined catchup bonbonita shet noontime iamfauxpas gigs temporary ug brandillio ideal howevernow cookleta okayyyy sum relatives comestake luv tite byeee anneapple scary peter pan quotill oldquot quotfly mequot thumbs loud trains window bake tart flavor float froyo ringing andrewtechhelp getter alanreimer pidgy windowsill anesidora scrivner erased files hadnt backed farewell anarbor ughhh sleepless phoneless bffless grand vip non agnessss cinnymonbun concerned safe meetingsbut sexynerd luvs aliyoopah ubgfveiknrifhnidputa chrisnumb beach someones blahh ophelia image meemight mlbtv rivalry split broadcasting elsewhere anamitra shahrukhkhan srk sue russa heavy beawise mobile colemark cronogenesis bostongrlkayte ish fershizzy memphis louisjust worried wld lk chrispople mother ajcann wondoze maker crisis cjrw bbrannan nfb studying ttquot chrismarquardt lens zoom boneyeric arono bigger alexisaurus liek asshole ankitagaba colorblindfish mariah babybabybaby kimmel probaby alyssaschwartz globe doest deliver cottage noplace gampm nyt andymccullough jess fanfic boards beaniebuns trouble growling arealist royalscorpion normal amberhenderson brianddew popup msg tab navigate webpage azurell jim chantelleaustin urgh primer doorwindow frames walls conked nana bcuban mcuban nba noncall ref playoff chin craftjoshua aches adopt alexis baconlover repromote aishanh taylor selena appear related photoshop barrydobson virtually everywhere prix gm ii knoow wass reaaliiee aa greaatt expeerience weatherquot thingquotgoin daddy aggallegos alan ancy address crystalyssaling naw ez pz screwed aled front carry bloodyironist coledc foreign memorable cipro brittanymcgee blairxx adrianamarshall adriana flopped biancacruzer mormon ahahaha ashleydepp evertime spesh haves girlfriends amyleona whoops hectic blakerains dummy ainokeakat tito dunt hurd knobduddy bhuto naaa anyways bhavis likes plp ameliadass heidi lauren pounds mampmsquot selfrestraint eaten kiwi laura byflutter alexistreese pair jo boyfriends nordrack diving bridgetslater swimsuit powered caffeine drowning jungle juice fakemansell bite flav nando coffee katie wirth brendon quotthunderstormsquot eill forecast sux voted ampamp nail palin sarah snl quotwanna miracle miraclequot bruce almightey johns frat biffle rhea pouring beckygtx thumb suxwhy imide awakenoooooo jetlag justintv thisjust ai funeral crystal crawford restit weekssad answering tweete blgal knitted elastic stayed mamps coreylay boom pow cheap ripoffs dance shots takequot smiling pc chrisfields confidenceif rossi ltsniffgt beth angie salon column los angeles wrapping boatand annasharkey wellx tht meannn queens breed grime borough amistod helluva battlestar symptom cinnayum laughed pictured hoppy alliejsmith dresses asinnema ray kyte airlines ewr angisori reg cloudwalking aperture laboratories mug adiejonas coop abersparky ceceliafindorff poop bbgeekchic camper blackberry disabled caitlinaudrey limited press bub agelessjen imax brilliancebut terminator chrisseymc sisters ltpouty andyy andytweetslike signed alexandermcneil ica charissedeleon jealousy becomes barrycoombs disappointingly upgrade anticlimax tootho jailbreak lile adived incidents favor suffering alicebates lolo tortoise knee inning bye untilhopefully andycrofford aaaww beverleyknight bev nasty disease comeagainjen omgggg kidnap menchies inaninyonga sijazoea tai brooklynlovee andrewquinzi anddh lg arena abirtmo disney bbubblegumpink chantalmenard celebrate billhilton lasts babymakinmachin center doesepidurals mewell sections werentnow coices babyycoolie hook sub manager fart babyjsmom parked skytrainshe dissapeared blueoctoberband bevysmith ashleeadams dig meat lovers bubbleuk dser spider cbetta plugins vanilla curl quotinlawsquot quotoutlawsquot bluecrystalsky caryrivas alergic itchy burning cindergarden mourns burnthereceipt pure chgoodwin beckykingston teachers adrimane goodone bytesize christooopher bizcoachscott distances min current hostel mica imissmica arkhangel ofrecen wireless de interested pero creo que solo lenore timezones burkazoid guests dieing bringing ampersandrea app slows asheridan eames modular quotofficequot asilaydying amandaexoxo starbs janky drivewe older hereit btw quizilla awesomepaulsome pedobear quotheyquot spelled mitchelmussos aucourantamour waking oliviadotcom ehm soaking rays maths geek colleenerin player allypow toronto crowd vig twitters esp weirdo goodl antholee tristo resolution bradleyjean ladyo serious letter danny caitsmomma faves acepower coollike held unprofessional pharmacist apemarieoteyza dec tans brandon arafiazaed anal coribooboo sample grilling sirisha siri nadal brunns covered dashing scars prone irresponsible marshmallows stated gelatin bschmidt whhhen amnobrega dennesha sorta fairytale daydream minus swindon places cindyannganaden aephotowpg bickclick safari britgeekgrrl yesterdays journey ajolly cimness blogography drown sorrows culvers burger kim bensue cryin thoi thrui chandrakumar unable blindingvoip loretta quotkylie reminisces itquot aktivizz cecenewnew clarisseee lasted eff squaresp squarespac trackle giveaways giveway iphonegiveway squarespce angeltracey economy affecting scrapbook industry ameliebc sweety ang againcrying chatterboxreb umming ahhing benicassim latitude benicassims alvincs zero ajdydasco brlamb scratch bgilgoff elj graze delivered kevkevv vjartist interesting alicebouquet davelewistwit golf chrissswag badtwin buddythepuggy bud thepug twitpic wynne dc scores penalty belindabrown cperezdetagle tagle thou sasha bronamedcalvin within distance carors christineknight babydollniki waaaaah mitchelmusso mysql database synology nas twiny carriexox colbyrne queue ahmedikhwan reuters beirut tirebiter cliche blech alchemilla canceled brroooke samantha reschedulei tranquilize capschat seven addiec braces therehaha rent francisco angryboardface diviners celebrities carolynjenn tuschmi aliballibee carminecent hollyhuddleston holly cnt soooooooyah badassdey dizzy spells blacked anniebeee dry relaxing allieblue vodka mudshake designtalk photography commenced httptrimmtzl beccarockstarr camellasecrets feelings rights anger amandasue chesterbear demons fear elizaclaire harsh superwoman andymacmusic weekendandthe bird survive ammyliz smoltz beautifulvee wallet herequot zone hahahah aliciajonasx micster bronwynlouise quarantine cobolisdead studioelle grilled corn citytavern akumalaysian response ciggs brenduhhh sry guiksnet responding mattgemmell ghostbusters achlemepris alexandernixon friendly anneroos county cork ballad loading file metal chanelmelendez scottsdale alibartlett aneetasee alexisamore clairesays effects alltay damnt blow dark crown darker twilight coxysopinions killers holiday tk aus festivals givin frown upside badgergamer checksnope lied subject essay alexandrakor wtching pcd others anitapsays neckshoulderback move slamma australia azelmer dripping sweat women yasmena kate donkey bollocks quotgo charmmydoll blurry chapter unltimate maing alexmbermudez bunny benlately smallville mena theremine downloaded thnk deserve bryan txt meeeeee sync anywhohoping magics viola disappointing appsniped beeroach joy sc asynja mmm anntrs alinejcardozo forgive aprilroze arounddawaygirl rachaelll dya adulty mature adambuchen knowyour angelicbiscuit quotget melbournequot alexapittman cassiduncan ayomillions orleans beenwish katrina chriscanal reesirfbabii britishjen httptinyurlcomolyvhe bcamboss action nigga hampton alisonruth plug gaps buddytv cw spinoff astrylnaut alrdy acalbelais interview cmkal everytime teach sites blakeel alankercinik gotcha nonexistent dishes bibliobrat seatbelt cutter word heat kills caitywrites beaverton christyxcore fakerparis weve turkey quotbattery legquot blur amberbenson excessive moar fishiez ffxi pulling collhugstrees ayyodaph whooooa cptnhelm sf compatriot freelance underload carlameowxo imma cxomputer thugh scam virus popping aswellli convince profile devious boubywasthere ichat gggarmen andyroddick garos nole ammre heatherbailey resend spam folder beautyeditor bloat alysssaaisgreat bryanbrinkman jelous decemberists brhuney caitiejayne aliceinspace ase mmmill hosting arcadecore arifeddy okeyh esok saya hotline baru je tikets ni beim batgirlbabs reality proving assemble lastminute tues hopeful lookin adambeckah chinese bobhallam fender ovation tend separated sck asterigr buhrayaaan atwallace randomers fringe braidy brisinchen urself shat myselfquot james earl jones interrupted drama crimson brittanyiare chickachels swim bandyroos chriscornell winners realize apesss vicam wear jennilyn ppls ahudoin burndownparis australians anywork checkers marina hollyoaks justin strikes burton takes fort myx alibutterfli allure student loans ashleysmilesxo amberrrniiicole interfere crunkstella stelly alauderdale ltsad overly stressed byebye avius thatand breaksthat applicantjan spitalfield adriennebailon robertkardashian nott boredmommy clubs dairy queen abstracthomie staronmainest abrilrocks dream classmates tayo nina review dollaralmost markhoppus blinks montreal kpd aamyhaanson pa poker studmuffin skate ankle pimp limp alicequinn ngidem cinnamon rollhot choco britttnicole ceciliamadness university quottest progressquot midterm prompt assessment badnewzzoh acontradiction crazyrae decent ashylbowz angiequaale hrmm professional kdot duh realizes deep shahpriya indiagames investing worldsapart worldswere waste computers aneehan based challenges experience badly cz tropical briiisme jacob niece tail hawk rehabilitator clinicor wildlife hbu christopherdxs kathe alexistaaylor arranging photographer anthonylaatsch xcharlottie bout gadget quotalways httpsquotquot doofes igoogle kein http nutzen cameronstewart beautifultake camerayarra valley winery landings relaxitll eveb staff gettin agdtinman letdown sadface drank comeback versus bellaventa changing schedules flights babsonportland doubtful yogi brianwellsmd nfg briannippon addersop brionymaymcfly partys woop bogvampwhoppit kent christwitery detectives agonyofvictory brandywandlover escape mars xxxx beebecca finances masterchef andre poophead hated poh walked inquot artemisofluna weeeeeelllllll helllllllo abbiie tells televised waaaaaahhhhhh alphabet ilhm chgo quotamerica beautifulquot ketan varundhingra feelin jeolous workplace cherrim gaming tomo thatll alohabruce oven sundays mondays tuesdays colin degrees kinsale todaytoo apothecaryjeri neighbours lightmare coderster pancakes tad contract rawrrrr astrudrayograph rumour csbseal bstage emilyyoung goto inshaallah quotgoogle tasksquot taking surprised quotthisquot employee ltbp flack andrewpour personand fried bahamemoalison anjuan scene amcfarr pissing butterflysing wide conanobrien remy oldest stocktake amh callumrudd gordons actual hnd annabananarose noooooo ampampfightiin wiit bdeterding booted ashashake pantsless beneverson bdougher randi sooncheck chedaboi madness bethbrittbrand classses ashwinn depending item cals dontyouhateitwhen print iron invert pains childbirth puffing abbefied machamp gold graduate wichita state sniffles camp broadway driving bound crasheddrove divider cbjason twitterberry strips amberconrad bumed bulletwolf chrisolstrom danielstroud persiankiwi captured revealed rly overseas faithful earantibiotics depressed dunnnoo chazzymcnazzy bath chanvin allstarsonline gosh aaronmterry ahead janet surgery tuned pfft ashleeminer cmoz local aurorajo arguement recreational medicine appealing applecored healing premature duty chrisbaskind momsbunnies quotcoming soonquot leloz quotthen responded quotfirst resume bassyc dearly afceahelen gmu quotshort listquot masters sys eng program vasanth dsriharsha senior respect chantiparnell asecrettweet noo ahg intriguing keeping kibler lavalanche brainbite divagrl vicym dehfamsincere lamontrose comedianspank geekyfuschia aitgclothing ugggg sinuses forced booooooo biggoldchainz ouuuuttt alistair probs hacking michelecatahay guff btcare ordered correctly alimwahxx kstew boyf sth agphillipi cathsoepadhi dissapointed acidicfizz quotes code brookedarlingg aimizubouken ahsan unfortunate anniyosh waahhh sadmiss hub quotquotquotquotquotquotquotquot celestaeyhout ohhh ik wil ook brentspiner hosted dover sucksss nj beaulingpin nicholaseaton sadden gibson beatlefanhere luvd funbut foodwas anyones excowgirl patiently agapeeternal hale huggg crrystalbabe blair betty petrol roll crime artists blokeslib diversity chugged imperial dessert cakes tasty drove cinda bright neon flashing readyquot changeforiran tones annieareyouohk sports knowledgable asronline aim bmr philly turnpike aspastictiger cake recovered squishy aiversonbabe kiiiiiit airbrush kit saving hulu fees quotwho eggsquot somequot geekcamp atlzfinez adeezyy amycricket chrisbrogan spy lyndsay booooooooooooooooooooooohissssssssssssssssssssss criticalmass direction charliexxx stuggling history catchyourfire funciona esto cathster woken picked yetu phonexxxxx brooklynhilary saturdays daveygjohnson incentive chroniclesofdri vai q inveja ausaudriel holding beautifulgenius heyyy missjp qdoba babyrckr ashycee english aaronrgillespie mms bluetooth babybeech tempted funno cleaning chelseawelseaaa bobblablaw chloefair sq lodge facilitate insurance ntuc processes httptinyurlcomlkgtac bobwallis breadandbadger rarely diego tori fails antidepressant pills angusislame soorrry gooo cowheadcow blackmarmalade cle aaronwarner rogers agreement chelseasmile exaggeratingit cjdurham carlmayer wrongs basseyworld kitchen akikato aki bowlthebunny chachizzle ariannacarolina gonnna loveee youss athenabeans itmy cable channeli quoton demandquot comic shops folks delivering neighborhood newsletters beirutnightlife personally option icecreamman catherinestack agreeeee ailabobila aubreycrossd handset cathybaron unaccomplished amyxo dragging ginadoles effed babypatches tryin charlesgustav catcameron alyrah awkward bebeld frlehgf abbyschim bethanie niiiiiiiiice blueprints citizennekane anisalovesu giant screen daysto chrismessina owf deadline possible hmpf applespecialist searching quotmajor tomquot shiny guns bellasmommie audreymcmanus announce aboutlore decided pack gim angelajames knooooow defend aniskywalker reviews concerts gahh bubblynight aramarques balconyim flowers acting azitaghanizada daytime gh robins chuggalove rather touch adorkable headphones locker chefjojones charger alexfoster effect vet changes remaining catpuss caarlsz com amelia lewe yeahi sadsdad shoppingmaybe afterwards keydon phuertas implying gates spain extremadura ginnean forcing shock horror flinch ads connorjack patch bekasaur ayende ammiisaurusrexx yer knocked afl celticnymph plz canageek ubuntu practically blaquerose butterflyxdream learnt ahacom tissue grits alexhanrahan idea turmoil shutting ashleypratt boochacha iyamemang panas nashville grease feature tonighthaha xotashhh armenianprinces ap dam actin aidosaur bulgogi fedoras maintainer pooch boned seemingly irrevocably moving flickr amous awwwwwsorry aaliyaposh nyce cranium benjaminjfrost muffin mealot karmas httpplurkcompxdecx cookiesweetshop buutterr twispazzer surprise charlievman arynna defeiend ayelexis butthurt armywives denise remodeling rooms bleak corinnefu bakasenpai effffffffffffff akamplish cooked aclkwrkstarfish ifwhen learning blessedayesha electrition tym uwaa charmaine interviews atls beansontoasted nooooo abirose meadowhall candicejo chlofupup anastasia beamarqz imy britaiin iknowrite carawong cara cdig yum supper delayed gaah subscribe wwwyoutubecomitsadamblake calvin triple beckymiddleton avaswriter bryancheung slut fed cawowinnose geocachers hardly nemore cartoono eml data aceaachen cecyp paolagarinwhat jajaja nsc arrrrrrrrgh revise strangely cheesyyy lynn ashemischief emotional shopper aaape damnnnn whackkkk angrybetta todaythen callmeauburn auburn bclovesdc chesca daw sprained ciataich banned mimo dosnt ballinearly amarillanz angelicsub anyadrama borrow sapphirechic plastiqqsomehow existent ayanyanksbut terms lia mouthing aliebethj babygirlllll numberssss errands chrisefs lifted flown falmouth latest clarasdiary kidding beekkitam lorrie galing sa poi sleeve cloudy heregoing aliens benskis beyondgoodnevil bethskene cameroncollie theyve connect beeslikezeebras four antennaswrvu bexiclepop marvins kiddies angelar storms chrismojan ahhkatesheridan yesss oc marathon oliver appstory peony oakland tom kiang east ocean emeryville alameda chaosphoenx overturned adyw boynapped briniloo fiesta angielala famil deepest bryanpford gary weeknight phillies anomoly tstorm acts playingno andrewkbmx dood landed chile stew appetite allisongreen stickam chriscorrell rallys friesyou bastard noooi happensmy sighed nh boho nicolereyes aprilmiss argument mei helped filipino elections creativejo plain tweetinig stokke products spamming csweather lex youuuuuu ankurgel exactlynobody chloemoey whether choices poverty boat mate squeeze afta bt durin timings alyspm alys abbieeex caitymarie dnce amitgupta mc tripping acs yahan kharab hai bhai garmi se bura hal dogs downstairs noise clrzqstn posible hapend thomasfiss vfc cryngbt suport according katy flor breezyskies theory tools whati abbyjamalullail xox alaero mild sauce beyond awdawno wellthat anastasialoxley vtoed waaaay votemcfly steps undefined distraction creativity spurts amieewhitney vent benjonesdj arnt gmy doh ultimate chaos crimpomatic egyptian devo invention company bladnman matt nda allypaul grilld chorazin figuring earf cast chelleyj quotyear absolutegoo participate bids cha qualify age braddaughtery heck asphotos rude goagain tommorow gross oyster athena ajaylongkaka loner reaaals aliaisahak transfer chantals angelicajw cindypk defiance capriciousk mia moma cavallicali latersheesh clinic wcat altenhofen quarter inch widerthat accessaries mcat shinequot schoooool ashiezorz louise buddhawong ooooout hahaah comicbreak barrypeters afterall doylestown ananyah juggling shaheen unbelievable babyfacegm salad sayin crisrojas setting mah runaway airliebee incredibly numb twittering laid champion amapeli bbc sensor slr removal several hundred biankis fairs bagussoo chem archieboyyy crucialxtreme amor colombian marco waits thumbdrive rarrrrrrrgrrrr marcoooo alexbeadle ashsimpsonwentz gogogansters abuse adekaye fable stole undead daughter cribble xbianca neitherr angiebuhl dulles angellah crisilouise shandy chili sausage cocunus aaa doar ca daca sar putea fie dublat caradiangel leavecurrently horribly galore basilix geography charts downs thirstily thirsty quotwine wineshake mamba yehquot twitpics usua amandaclark alun utterli nonfunctional workspitiful weepy annamariapdt iloveu xoxox sales askaaronlee chemmefatale smiles bvictor nerves indecisive chelseaplayboy annoy backpackers pubi accents pastmakes caitlinmoran noone sits poke ladsor youwhich chandarenee yoyo hips chupchap nakulshenoy rajasthan christywise runs adlantis unicorn tshirts womens stock shirts annaelizc warden training agathaxxx xp stubborn ruining caliszfinest ariellaklein brhis quotblue fridayquot santa claus brettislame sea foam fashionquot boyd guest borrodell ghh animalplanet whale bestiebytch amiee inderstood aimzzzzz aimee aspiehler itd xong trang mun con mt babyvtec ponytail snaps bands badiit butthead truffles chinas chocolates crappy overpriced shaaat eo manips converted ro quotwonderful nightquot twitches ameshaye blazianasian missnisey battyjanice oxycontin govt strictly monitors usage sympathy allenlulu continue outdated complied systemquot goddamn mps barbaraboser wii bengoldacre position civil liberties stance herpes aarondotjpeg altamonte waitin tlk nw mwaah slow cleanchris cailah cityrail mannnn hehehehe juns annoys ashleymeltjonas gots zachary ppppllleeeaaassseee blairwaldorf apologized cinnehmarie camilletianna dreaded howdy thurr agony aguthers beeraday fios underestimated amount zzz alicek likequot button amandasaywhat adityamishra moogyboobles ahhhhhh subscription beezygirlsodmg mrschrisbrown sodmg mile brittgastineau jewelry annreywil breaksteel physical bethanymcflyx bethany afrausto idaho vicinity acanderfan ahflor regards shanghainese atas yrs snoozing l bass members natch brykins cigar ay harder chloealper wings lead freedom batchout hardcore wearing shift bitchimightbe barblund bowling chace angelasgf effectively sacked julia whatsmysection abbyxoxox cba upload bamaisme weak craiglmj alltheweigh atratos creepermagee arischenck headed baltimore brockm gmails mode ubank usb parade atpce baxterburgundy musicrain awaycome charlyrae yaaaaaaaaaaaaahh andrewzamora volunteer wat coryfroomkin tlkn goshhh andykcheng hoya shadow cdldg pers childofdust gianthug cuddle aprom iv naming theebombshell frontloli mommymissin ajaystwtr anxietypanic charelblessed coud entertain stupidity mampgs clairessaann bobmabena beers amycgraham brittlz britt davey arryanb thks tweetthat nono cares acupoft cashcapone haterjus alejitared siiiiii mullet gti bikeaah michelle nt tube kat pixels stephie jonasbrothers chelseylea andybloch preordered debut lisad stopped stalk amyspipsqueaks plants prissy elvis chrisbosh added threadedtweets bobdo hosts laws pappper bluesdrive unforch partay citrusberries catherine shhdont captainfailure smaller coloring hulk crayon jumping trampoline foot springs btabsays prom bbsworld atheistium vista akarra cruzteng humid sg bleuu memorial benpeterson coonniee attitudecandy danieli onerichsong richard caligater es drunktweeting hashtagging aloofanwyn scrap celesssste doof karly bbhow fifian bobbinrob drumsticks nommmm woe possums chrisscheetz thespindoctor tenny alicecullen vampire json javascript objects php chaaachaaa tiring nuevasync bellemorda chikeloney legend thoughlol chainthetruth aslanenlisted sounded apprentice bigthink zack edit bioprofile create login techhelp alexx pisture agentsullivan bckystrt surrounded benhorst tearyeyed nothings quotab wats wrongquot bestfriendb wya cathyanne hide conservateacher country actevil kooks arg cartitarti mosquito amykyi hid porch ummm craving tragic bodbod untweetable ea range thinks brutal snacks sophomore nicole luk charitywater ecard arm six flags freddo bars egg race safety prescription browserd bcarcamos crab angeleyesbabyfa lacking dept bellelulu sharp condition calidb safely colda cincy case carpathiab finland speaks yell avjaysonav bottom jasper lastday junior beakpie wines ajaedandridge iamjmuzik caliadragon anxiety sickness darling cerriduri artistbabee thts ampdefinitely bitchy def oct creolepimp mics secs abcshallowend present bear augusten premium nicotine gum ashleyfrag sooooon farmers mks rt tofoodie operated markets duration bumpy stds bahaha jkkk chicka awebdesigner sitinand bryanfake yogurtworld defo gona mcc leather badeen vicki nogo ooooh easter arggh tomorrra ambercrumbyy tbm tomato basil carrots raspberry aptronym designers au pricing shoot maaan yikes crazytwism soft behaves shucks fishing benjarelbo greys anatomy beautythesis aloti angelonearth terrasarx taxes viewable windos bibbik chesney heeeeelllpppp nap autumnreeser audreyo practical fs quothe beamed mention namequot algonquirnt wept gah lv recc ppss cinebo roswell srsly satisfied seasons wren brewstermax dev discount charleneortiz messed paparazzi arrojenkins withbesides downer altducky uggh spent international fathers fithly chicmom lids drinks fifa ticketing chances brantanamo hoooooooooooooooooooolla yoou xxxxxxxxxx conan billbeckett aimellow shimsky koolin byubay alexandraxox september losing cozboogie pocketwit october ptr panda enchanting titanium truck lolin alyxandracouch ohno eviction beinazir courtbolin youuu dodging semis amandafortier berry distractions aeayling police hunny checkin bluegnu chores neverending mist myy twitterii iiz kooiim lullaby aeluran bobtheskutter quotdead walkingquotthe broooooke alwayscoffee superestablished writers considered stripes brittanyko alisonhaislip grrrrrrrr ceejcastro listeningto wachovias quotimma holdquot aristeia directly descendant perhaps audit mumblesinstead onesno agirlcalledbob babysinead bastienvs ayeashleigh kwlio piss userly bingo aylathedreamer arghh anosako sadness cds aatom abunny herei hartford cnnbrk familiesjust alcoholharmony idnt feelns lookd quotipersonally singquot germantown lols aurafurrnz tambuli wid buti nxt bloons wtr clunkclunk baaahhhh sac davis era andrewjparker await alanquatermain aaronsinohio meanquotshutdownquotnot ageofconspiracy arrowhead madre grown answerguy barelyyjoyous shaggy clown alittletrendy spoiled creativebloke interweb callunax feck stool andreiiak advicedun hiltonshe cbhamby tigeryou oxford ashbe aimyleigh mitchell musso leysh barcodegurl whenever manquot pouting ashhhftw aftr khameneis twitterin iranians cinemassacre searchable twitterfon superman python port java cosplay materials grabbed sammitch alterra cafe andreolifelipe aaahhh achei fosse baixista angra sahkusahksauhe brinks quotkill kung fu david carradine bangkok thursdayquot handy dandy role ashleyryanfosho bullshit anabellestehl xdwhy berliini caijam chittabug sweetheart materialistic important astromike cbobest cuzzo andrewratcliffe common englishmen italians awesomekate chuckzhao kobe bowen matchups barbiebabie pwease embarrasing crawl cynthiaburoughs heri motherfuckers toniteda vinci ballsposeidon ballshooray memoirs geisha alliekat suppliers beijingboyce grab woddy allen biarf maria roger ahah bessyn crapi tootie cavsall ats rickyyyyyy quotnow quotred white boomquot twitteraim thng vy ngi newcastle everythings'"
            ]
          },
          "metadata": {
            "tags": []
          },
          "execution_count": 158
        }
      ]
    },
    {
      "cell_type": "code",
      "metadata": {
        "id": "YZoMefLdIcJb",
        "colab_type": "code",
        "outputId": "ce6d254d-d077-4599-a24a-a4945c4b2748",
        "colab": {
          "base_uri": "https://localhost:8080/",
          "height": 310
        }
      },
      "source": [
        "def word_cloud(tweets):\n",
        "    word_cloud = WordCloud(width=2000, height=1000, max_font_size=200, \n",
        "                           background_color=\"black\", max_words=100,\n",
        "                           contour_width=1, contour_color=\"steelblue\", \n",
        "                           colormap=\"nipy_spectral\").generate(tweets)\n",
        "\n",
        "    #Now we plot the figure\n",
        "    plt.figure(figsize=(10,10))\n",
        "    plt.imshow(word_cloud, interpolation=\"hermite\")\n",
        "    plt.axis(\"off\")    \n",
        "    plt.show()  \n",
        "\n",
        "word_cloud(' '.join(model.setTerms.keys()))"
      ],
      "execution_count": 0,
      "outputs": [
        {
          "output_type": "display_data",
          "data": {
            "image/png": "[encoded data removed]",
            "text/plain": [
              "<Figure size 720x720 with 1 Axes>"
            ]
          },
          "metadata": {
            "tags": [],
            "needs_background": "light"
          }
        }
      ]
    },
    {
      "cell_type": "markdown",
      "metadata": {
        "id": "QC7FcydOK-l9",
        "colab_type": "text"
      },
      "source": [
        "## Sentiment140 (deprecated)"
      ]
    },
    {
      "cell_type": "markdown",
      "metadata": {
        "id": "NiYZmlxeMAKv",
        "colab_type": "text"
      },
      "source": [
        "We will use the [Sentiment140](https://www.kaggle.com/kazanova/sentiment140) dataset from kaggle. This set contains 1,600,000 tweets extracted using the twitter api . The tweets have been annotated (0 = negative, 1 = positive) and they can be used to detect sentiment .\n",
        "\n",
        "The official link regarding the dataset with resources about how it was generated can be found [here](http://%20http//help.sentiment140.com/for-students/).\n",
        "\n",
        "The official paper detailing the approach can be found [here](http://bhttp//cs.stanford.edu/people/alecmgo/papers/TwitterDistantSupervision09.pdf).\n",
        "\n",
        "Citation: Go, A., Bhayani, R. and Huang, L., 2009. Twitter sentiment classification using distant supervision. CS224N Project Report, Stanford, 1(2009), p.12."
      ]
    },
    {
      "cell_type": "code",
      "metadata": {
        "id": "XwhF2_BTK8EM",
        "colab_type": "code",
        "outputId": "da1d78ed-1b6c-46bd-fdeb-493746ecf461",
        "colab": {
          "base_uri": "https://localhost:8080/",
          "height": 204
        }
      },
      "source": [
        "sentiment140 = pd.read_csv('/content/drive/My Drive/Colab Notebooks/MATH 637/Final Project/twitter_training_data.csv', header=None, encoding='latin-1')[::100]\n",
        "sentiment140.columns = [\"target\", \"tweet_ids\", \"date\", \"flag\", \"user\", \"text\"]\n",
        "sentiment140.target = (sentiment140.target > 0).astype(int)\n",
        "sentiment140.head()"
      ],
      "execution_count": 0,
      "outputs": [
        {
          "output_type": "execute_result",
          "data": {
            "text/html": [
              "<div>\n",
              "<style scoped>\n",
              "    .dataframe tbody tr th:only-of-type {\n",
              "        vertical-align: middle;\n",
              "    }\n",
              "\n",
              "    .dataframe tbody tr th {\n",
              "        vertical-align: top;\n",
              "    }\n",
              "\n",
              "    .dataframe thead th {\n",
              "        text-align: right;\n",
              "    }\n",
              "</style>\n",
              "<table border=\"1\" class=\"dataframe\">\n",
              "  <thead>\n",
              "    <tr style=\"text-align: right;\">\n",
              "      <th></th>\n",
              "      <th>target</th>\n",
              "      <th>tweet_ids</th>\n",
              "      <th>date</th>\n",
              "      <th>flag</th>\n",
              "      <th>user</th>\n",
              "      <th>text</th>\n",
              "    </tr>\n",
              "  </thead>\n",
              "  <tbody>\n",
              "    <tr>\n",
              "      <th>0</th>\n",
              "      <td>0</td>\n",
              "      <td>1467810369</td>\n",
              "      <td>Mon Apr 06 22:19:45 PDT 2009</td>\n",
              "      <td>NO_QUERY</td>\n",
              "      <td>_TheSpecialOne_</td>\n",
              "      <td>@switchfoot http://twitpic.com/2y1zl - Awww, t...</td>\n",
              "    </tr>\n",
              "    <tr>\n",
              "      <th>100</th>\n",
              "      <td>0</td>\n",
              "      <td>1467836873</td>\n",
              "      <td>Mon Apr 06 22:26:33 PDT 2009</td>\n",
              "      <td>NO_QUERY</td>\n",
              "      <td>LeakySpoon</td>\n",
              "      <td>Body Of Missing Northern Calif. Girl Found: P...</td>\n",
              "    </tr>\n",
              "    <tr>\n",
              "      <th>200</th>\n",
              "      <td>0</td>\n",
              "      <td>1467861522</td>\n",
              "      <td>Mon Apr 06 22:33:00 PDT 2009</td>\n",
              "      <td>NO_QUERY</td>\n",
              "      <td>bovinemammal</td>\n",
              "      <td>Job Interview in Cardiff today, wish me luck! ...</td>\n",
              "    </tr>\n",
              "    <tr>\n",
              "      <th>300</th>\n",
              "      <td>0</td>\n",
              "      <td>1467890079</td>\n",
              "      <td>Mon Apr 06 22:40:38 PDT 2009</td>\n",
              "      <td>NO_QUERY</td>\n",
              "      <td>BATMANNN</td>\n",
              "      <td>@jokerrrr It stillllll hasn't arrived</td>\n",
              "    </tr>\n",
              "    <tr>\n",
              "      <th>400</th>\n",
              "      <td>0</td>\n",
              "      <td>1467913111</td>\n",
              "      <td>Mon Apr 06 22:46:57 PDT 2009</td>\n",
              "      <td>NO_QUERY</td>\n",
              "      <td>nssmom</td>\n",
              "      <td>#3 woke up and was having an accident - &amp;quot;...</td>\n",
              "    </tr>\n",
              "  </tbody>\n",
              "</table>\n",
              "</div>"
            ],
            "text/plain": [
              "     target  ...                                               text\n",
              "0         0  ...  @switchfoot http://twitpic.com/2y1zl - Awww, t...\n",
              "100       0  ...   Body Of Missing Northern Calif. Girl Found: P...\n",
              "200       0  ...  Job Interview in Cardiff today, wish me luck! ...\n",
              "300       0  ...             @jokerrrr It stillllll hasn't arrived \n",
              "400       0  ...  #3 woke up and was having an accident - &quot;...\n",
              "\n",
              "[5 rows x 6 columns]"
            ]
          },
          "metadata": {
            "tags": []
          },
          "execution_count": 7
        }
      ]
    },
    {
      "cell_type": "code",
      "metadata": {
        "id": "SWxxIe0PL3VO",
        "colab_type": "code",
        "outputId": "9a952fbb-f3d3-468b-d7ff-50b390f759a6",
        "colab": {
          "base_uri": "https://localhost:8080/",
          "height": 238
        }
      },
      "source": [
        "trainData = [{'label':target, 'text':text} for target, text in zip(sentiment140.target, sentiment140.text)]\n",
        "\n",
        "print('Negative Tweets')\n",
        "for tweet in trainData[:5]:\n",
        "    print(tweet['label'], tweet['text'])\n",
        "\n",
        "print('\\nPositive Tweets')\n",
        "for tweet in trainData[-5:]:\n",
        "    print(tweet['label'], tweet['text'])"
      ],
      "execution_count": 0,
      "outputs": [
        {
          "output_type": "stream",
          "text": [
            "Negative Tweets\n",
            "0 @switchfoot http://twitpic.com/2y1zl - Awww, that's a bummer.  You shoulda got David Carr of Third Day to do it. ;D\n",
            "0  Body Of Missing Northern Calif. Girl Found: Police have found the remains of a missing Northern California girl .. http://tr.im/imji\n",
            "0 Job Interview in Cardiff today, wish me luck! Got about 3 hours sleep \n",
            "0 @jokerrrr It stillllll hasn't arrived \n",
            "0 #3 woke up and was having an accident - &quot;It's pushing, it's pushing!&quot; he was crying because he couldn't stop from wetting his pants.  \n",
            "\n",
            "Positive Tweets\n",
            "1 Sitting in a meeting with my mom &amp; grandmother reguarding the school. Hopefully opening more locations &amp; salon/spas.. Yay!! \n",
            "1 @Elle_333 @jenfafer midnight showing peoples, y'all better be with me \n",
            "1 @sthrnfairytale Any Tips for training Rach?? \n",
            "1 @cherub_rock123 ehh....it's a day. \n",
            "1 @cris1015 My goal on stocks like $MTXX is to help, if just one person avoided this stock on my post, would make the keystrokes worth it.  \n"
          ],
          "name": "stdout"
        }
      ]
    },
    {
      "cell_type": "code",
      "metadata": {
        "id": "n-CfXCUyL66m",
        "colab_type": "code",
        "outputId": "23fb5220-4c91-40cb-8eab-6b827ffdf958",
        "colab": {
          "base_uri": "https://localhost:8080/",
          "height": 238
        }
      },
      "source": [
        "X_train, X_test, y_train, y_test = train_test_split(sentiment140.text, sentiment140.target, test_size=0.33, random_state=637)\n",
        "\n",
        "print('Positive Tweets')\n",
        "for tweet in X_train[y_train == 1].values[-5:]:\n",
        "    print(tweet)\n",
        "\n",
        "print('\\nNegative Tweets')\n",
        "for tweet in X_train[y_train == 0].values[-5:]:\n",
        "    print(tweet)"
      ],
      "execution_count": 0,
      "outputs": [
        {
          "output_type": "stream",
          "text": [
            "Positive Tweets\n",
            "@permeister filled out the form. Thanks mucho!  You rock!!! \n",
            "@sgaw good choice, sometimes having a rest is the best thing to do! \n",
            "@KrisAllenmusic Wow! Hi Kris!Hope you get to tour in the Phils! \n",
            "@Seamonkey86 I hope they are  and I have FIVE 5 5ive five fIvE FiVe left...can you tell that Im excited? haha\n",
            "@craigfots mmmmm. who knows?? from memory I'd say the beer and sunshine may be a deal breaker \n",
            "\n",
            "Negative Tweets\n",
            "@mpeleides i didnt see your @ last night! obv, i wasnt at the party today  i wanted so badly to go but i couldnt walk!\n",
            "@Juniesgurl Ugh... I'm sorry  I'm good thanks! I could sleep all day but I won't. LOL!\n",
            "@jash001 but i need about another 200 pages  and i'm sniggering away, oh how I laugh...ha ha ha! ;)\n",
            "Another hour of pain done. My heart has been in the wrong place for awhile. Another hour coming with pantera. I need this I have slacked \n",
            "is wondering who would be so cruel as to cut off her cat's whiskers \n"
          ],
          "name": "stdout"
        }
      ]
    },
    {
      "cell_type": "markdown",
      "metadata": {
        "id": "Mipf-8fVthId",
        "colab_type": "text"
      },
      "source": [
        "# References"
      ]
    },
    {
      "cell_type": "markdown",
      "metadata": {
        "id": "XAz-1uH_tkV4",
        "colab_type": "text"
      },
      "source": [
        "[SymSpell](https://towardsdatascience.com/essential-text-correction-process-for-nlp-tasks-f731a025fcc3)\n",
        "\n",
        "[Big main one](https://towardsdatascience.com/creating-the-twitter-sentiment-analysis-program-in-python-with-naive-bayes-classification-672e5589a7ed)\n",
        "\n",
        "[Search tweets](https://blog.goodaudience.com/using-the-twitter-api-with-python-c6e8da96d273)\n",
        "\n",
        "[analysis.sentiment.polarity](https://www.geeksforgeeks.org/twitter-sentiment-analysis-using-python/)\n",
        "\n",
        "[Textblob documentation](https://textblob.readthedocs.io/en/dev/api_reference.html)\n",
        "\n",
        "[datasets (categories)](https://lionbridge.ai/datasets/top-20-twitter-datasets-for-natural-language-processing-and-machine-learning/)\n",
        "\n",
        "[new train data1](https://github.com/TharinduMunasinge/Twitter-Sentiment-Analysis/blob/master/DataSet/FinalizedFull.csv)\n",
        "\n",
        "documentations about [tf-idf](https://scikit-learn.org/stable/modules/generated/sklearn.feature_extraction.text.TfidfTransformer.html)\n",
        "\n",
        "stack overflow for [clfswitcher](https://stackoverflow.com/questions/50285973/pipeline-multiple-classifiers)\n",
        "\n",
        "kaggle [article](https://www.kaggle.com/residentmario/using-keras-models-with-scikit-learn-pipelines) about using keras neural nets in an sklearn framework (for Pipeline)\n",
        "\n",
        "Literature:\n",
        "\n",
        " * [https://en.wikipedia.org/wiki/Inter-rater_reliability](https://en.wikipedia.org/wiki/Inter-rater_reliability)\n",
        " * [best model not so good](https://en.wikipedia.org/wiki/Inter-rater_reliability)\n",
        " * [what a good score it](https://www.quora.com/What-is-the-accepted-accuracy-of-sentiment-analysis)\n",
        " * [github repo](https://github.com/ayushoriginal/Sentiment-Analysis-Twitter) with report-style format\n"
      ]
    },
    {
      "cell_type": "code",
      "metadata": {
        "id": "BONTa8ni9ddn",
        "colab_type": "code",
        "colab": {}
      },
      "source": [
        ""
      ],
      "execution_count": 0,
      "outputs": []
    }
  ]
}